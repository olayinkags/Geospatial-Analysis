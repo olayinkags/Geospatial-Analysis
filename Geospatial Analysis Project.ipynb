{
 "cells": [
  {
   "cell_type": "markdown",
   "id": "5cb9a70e",
   "metadata": {},
   "source": [
    "# Geospatial Analysis Project\n"
   ]
  },
  {
   "cell_type": "code",
   "execution_count": 1,
   "id": "0b79fe01",
   "metadata": {},
   "outputs": [],
   "source": [
    "# import python libraries needed for the analyis\n",
    "import pandas as pd\n",
    "import numpy as np\n",
    "import seaborn as sns\n",
    "import matplotlib.pyplot as plt\n",
    "\n",
    "\n",
    "import warnings\n",
    "from warnings import filterwarnings\n",
    "filterwarnings('ignore')"
   ]
  },
  {
   "cell_type": "code",
   "execution_count": 2,
   "id": "542a13ab",
   "metadata": {},
   "outputs": [],
   "source": [
    "# import the database and its connecion\n",
    "\n",
    "import sqlite3\n",
    "\n",
    "con = sqlite3.connect(r'C:\\Users\\olayi\\Downloads\\Resources\\zomato_rawdata.sqlite')"
   ]
  },
  {
   "cell_type": "code",
   "execution_count": 3,
   "id": "bf257bb0",
   "metadata": {},
   "outputs": [
    {
     "data": {
      "text/html": [
       "<div>\n",
       "<style scoped>\n",
       "    .dataframe tbody tr th:only-of-type {\n",
       "        vertical-align: middle;\n",
       "    }\n",
       "\n",
       "    .dataframe tbody tr th {\n",
       "        vertical-align: top;\n",
       "    }\n",
       "\n",
       "    .dataframe thead th {\n",
       "        text-align: right;\n",
       "    }\n",
       "</style>\n",
       "<table border=\"1\" class=\"dataframe\">\n",
       "  <thead>\n",
       "    <tr style=\"text-align: right;\">\n",
       "      <th></th>\n",
       "      <th>index</th>\n",
       "      <th>url</th>\n",
       "      <th>address</th>\n",
       "      <th>name</th>\n",
       "      <th>online_order</th>\n",
       "      <th>book_table</th>\n",
       "      <th>rate</th>\n",
       "      <th>votes</th>\n",
       "      <th>phone</th>\n",
       "      <th>location</th>\n",
       "      <th>rest_type</th>\n",
       "      <th>dish_liked</th>\n",
       "      <th>cuisines</th>\n",
       "      <th>approx_cost(for two people)</th>\n",
       "      <th>reviews_list</th>\n",
       "      <th>menu_item</th>\n",
       "      <th>listed_in(type)</th>\n",
       "      <th>listed_in(city)</th>\n",
       "    </tr>\n",
       "  </thead>\n",
       "  <tbody>\n",
       "    <tr>\n",
       "      <th>0</th>\n",
       "      <td>0</td>\n",
       "      <td>https://www.zomato.com/bangalore/jalsa-banasha...</td>\n",
       "      <td>942, 21st Main Road, 2nd Stage, Banashankari, ...</td>\n",
       "      <td>Jalsa</td>\n",
       "      <td>Yes</td>\n",
       "      <td>Yes</td>\n",
       "      <td>4.1/5</td>\n",
       "      <td>775</td>\n",
       "      <td>080 42297555\\r\\n+91 9743772233</td>\n",
       "      <td>Banashankari</td>\n",
       "      <td>Casual Dining</td>\n",
       "      <td>Pasta, Lunch Buffet, Masala Papad, Paneer Laja...</td>\n",
       "      <td>North Indian, Mughlai, Chinese</td>\n",
       "      <td>800</td>\n",
       "      <td>[('Rated 4.0', 'RATED\\n  A beautiful place to ...</td>\n",
       "      <td>[]</td>\n",
       "      <td>Buffet</td>\n",
       "      <td>Banashankari</td>\n",
       "    </tr>\n",
       "    <tr>\n",
       "      <th>1</th>\n",
       "      <td>1</td>\n",
       "      <td>https://www.zomato.com/bangalore/spice-elephan...</td>\n",
       "      <td>2nd Floor, 80 Feet Road, Near Big Bazaar, 6th ...</td>\n",
       "      <td>Spice Elephant</td>\n",
       "      <td>Yes</td>\n",
       "      <td>No</td>\n",
       "      <td>4.1/5</td>\n",
       "      <td>787</td>\n",
       "      <td>080 41714161</td>\n",
       "      <td>Banashankari</td>\n",
       "      <td>Casual Dining</td>\n",
       "      <td>Momos, Lunch Buffet, Chocolate Nirvana, Thai G...</td>\n",
       "      <td>Chinese, North Indian, Thai</td>\n",
       "      <td>800</td>\n",
       "      <td>[('Rated 4.0', 'RATED\\n  Had been here for din...</td>\n",
       "      <td>[]</td>\n",
       "      <td>Buffet</td>\n",
       "      <td>Banashankari</td>\n",
       "    </tr>\n",
       "    <tr>\n",
       "      <th>2</th>\n",
       "      <td>2</td>\n",
       "      <td>https://www.zomato.com/SanchurroBangalore?cont...</td>\n",
       "      <td>1112, Next to KIMS Medical College, 17th Cross...</td>\n",
       "      <td>San Churro Cafe</td>\n",
       "      <td>Yes</td>\n",
       "      <td>No</td>\n",
       "      <td>3.8/5</td>\n",
       "      <td>918</td>\n",
       "      <td>+91 9663487993</td>\n",
       "      <td>Banashankari</td>\n",
       "      <td>Cafe, Casual Dining</td>\n",
       "      <td>Churros, Cannelloni, Minestrone Soup, Hot Choc...</td>\n",
       "      <td>Cafe, Mexican, Italian</td>\n",
       "      <td>800</td>\n",
       "      <td>[('Rated 3.0', \"RATED\\n  Ambience is not that ...</td>\n",
       "      <td>[]</td>\n",
       "      <td>Buffet</td>\n",
       "      <td>Banashankari</td>\n",
       "    </tr>\n",
       "    <tr>\n",
       "      <th>3</th>\n",
       "      <td>3</td>\n",
       "      <td>https://www.zomato.com/bangalore/addhuri-udupi...</td>\n",
       "      <td>1st Floor, Annakuteera, 3rd Stage, Banashankar...</td>\n",
       "      <td>Addhuri Udupi Bhojana</td>\n",
       "      <td>No</td>\n",
       "      <td>No</td>\n",
       "      <td>3.7/5</td>\n",
       "      <td>88</td>\n",
       "      <td>+91 9620009302</td>\n",
       "      <td>Banashankari</td>\n",
       "      <td>Quick Bites</td>\n",
       "      <td>Masala Dosa</td>\n",
       "      <td>South Indian, North Indian</td>\n",
       "      <td>300</td>\n",
       "      <td>[('Rated 4.0', \"RATED\\n  Great food and proper...</td>\n",
       "      <td>[]</td>\n",
       "      <td>Buffet</td>\n",
       "      <td>Banashankari</td>\n",
       "    </tr>\n",
       "    <tr>\n",
       "      <th>4</th>\n",
       "      <td>4</td>\n",
       "      <td>https://www.zomato.com/bangalore/grand-village...</td>\n",
       "      <td>10, 3rd Floor, Lakshmi Associates, Gandhi Baza...</td>\n",
       "      <td>Grand Village</td>\n",
       "      <td>No</td>\n",
       "      <td>No</td>\n",
       "      <td>3.8/5</td>\n",
       "      <td>166</td>\n",
       "      <td>+91 8026612447\\r\\n+91 9901210005</td>\n",
       "      <td>Basavanagudi</td>\n",
       "      <td>Casual Dining</td>\n",
       "      <td>Panipuri, Gol Gappe</td>\n",
       "      <td>North Indian, Rajasthani</td>\n",
       "      <td>600</td>\n",
       "      <td>[('Rated 4.0', 'RATED\\n  Very good restaurant ...</td>\n",
       "      <td>[]</td>\n",
       "      <td>Buffet</td>\n",
       "      <td>Banashankari</td>\n",
       "    </tr>\n",
       "  </tbody>\n",
       "</table>\n",
       "</div>"
      ],
      "text/plain": [
       "   index                                                url  \\\n",
       "0      0  https://www.zomato.com/bangalore/jalsa-banasha...   \n",
       "1      1  https://www.zomato.com/bangalore/spice-elephan...   \n",
       "2      2  https://www.zomato.com/SanchurroBangalore?cont...   \n",
       "3      3  https://www.zomato.com/bangalore/addhuri-udupi...   \n",
       "4      4  https://www.zomato.com/bangalore/grand-village...   \n",
       "\n",
       "                                             address                   name  \\\n",
       "0  942, 21st Main Road, 2nd Stage, Banashankari, ...                  Jalsa   \n",
       "1  2nd Floor, 80 Feet Road, Near Big Bazaar, 6th ...         Spice Elephant   \n",
       "2  1112, Next to KIMS Medical College, 17th Cross...        San Churro Cafe   \n",
       "3  1st Floor, Annakuteera, 3rd Stage, Banashankar...  Addhuri Udupi Bhojana   \n",
       "4  10, 3rd Floor, Lakshmi Associates, Gandhi Baza...          Grand Village   \n",
       "\n",
       "  online_order book_table   rate  votes                             phone  \\\n",
       "0          Yes        Yes  4.1/5    775    080 42297555\\r\\n+91 9743772233   \n",
       "1          Yes         No  4.1/5    787                      080 41714161   \n",
       "2          Yes         No  3.8/5    918                    +91 9663487993   \n",
       "3           No         No  3.7/5     88                    +91 9620009302   \n",
       "4           No         No  3.8/5    166  +91 8026612447\\r\\n+91 9901210005   \n",
       "\n",
       "       location            rest_type  \\\n",
       "0  Banashankari        Casual Dining   \n",
       "1  Banashankari        Casual Dining   \n",
       "2  Banashankari  Cafe, Casual Dining   \n",
       "3  Banashankari          Quick Bites   \n",
       "4  Basavanagudi        Casual Dining   \n",
       "\n",
       "                                          dish_liked  \\\n",
       "0  Pasta, Lunch Buffet, Masala Papad, Paneer Laja...   \n",
       "1  Momos, Lunch Buffet, Chocolate Nirvana, Thai G...   \n",
       "2  Churros, Cannelloni, Minestrone Soup, Hot Choc...   \n",
       "3                                        Masala Dosa   \n",
       "4                                Panipuri, Gol Gappe   \n",
       "\n",
       "                         cuisines approx_cost(for two people)  \\\n",
       "0  North Indian, Mughlai, Chinese                         800   \n",
       "1     Chinese, North Indian, Thai                         800   \n",
       "2          Cafe, Mexican, Italian                         800   \n",
       "3      South Indian, North Indian                         300   \n",
       "4        North Indian, Rajasthani                         600   \n",
       "\n",
       "                                        reviews_list menu_item  \\\n",
       "0  [('Rated 4.0', 'RATED\\n  A beautiful place to ...        []   \n",
       "1  [('Rated 4.0', 'RATED\\n  Had been here for din...        []   \n",
       "2  [('Rated 3.0', \"RATED\\n  Ambience is not that ...        []   \n",
       "3  [('Rated 4.0', \"RATED\\n  Great food and proper...        []   \n",
       "4  [('Rated 4.0', 'RATED\\n  Very good restaurant ...        []   \n",
       "\n",
       "  listed_in(type) listed_in(city)  \n",
       "0          Buffet    Banashankari  \n",
       "1          Buffet    Banashankari  \n",
       "2          Buffet    Banashankari  \n",
       "3          Buffet    Banashankari  \n",
       "4          Buffet    Banashankari  "
      ]
     },
     "execution_count": 3,
     "metadata": {},
     "output_type": "execute_result"
    }
   ],
   "source": [
    "# read and load the data from the database\n",
    "df = pd.read_sql_query('SELECT* FROM USERS', con)\n",
    "df.head()"
   ]
  },
  {
   "cell_type": "code",
   "execution_count": 4,
   "id": "9cd8d156",
   "metadata": {},
   "outputs": [
    {
     "name": "stdout",
     "output_type": "stream",
     "text": [
      "<class 'pandas.core.frame.DataFrame'>\n",
      "RangeIndex: 51717 entries, 0 to 51716\n",
      "Data columns (total 18 columns):\n",
      " #   Column                       Non-Null Count  Dtype \n",
      "---  ------                       --------------  ----- \n",
      " 0   index                        51717 non-null  int64 \n",
      " 1   url                          51717 non-null  object\n",
      " 2   address                      51717 non-null  object\n",
      " 3   name                         51717 non-null  object\n",
      " 4   online_order                 51717 non-null  object\n",
      " 5   book_table                   51717 non-null  object\n",
      " 6   rate                         43942 non-null  object\n",
      " 7   votes                        51717 non-null  int64 \n",
      " 8   phone                        50509 non-null  object\n",
      " 9   location                     51696 non-null  object\n",
      " 10  rest_type                    51490 non-null  object\n",
      " 11  dish_liked                   23639 non-null  object\n",
      " 12  cuisines                     51672 non-null  object\n",
      " 13  approx_cost(for two people)  51371 non-null  object\n",
      " 14  reviews_list                 51717 non-null  object\n",
      " 15  menu_item                    51717 non-null  object\n",
      " 16  listed_in(type)              51717 non-null  object\n",
      " 17  listed_in(city)              51717 non-null  object\n",
      "dtypes: int64(2), object(16)\n",
      "memory usage: 7.1+ MB\n"
     ]
    }
   ],
   "source": [
    "# understanding the data\n",
    "df.info()"
   ]
  },
  {
   "cell_type": "code",
   "execution_count": 5,
   "id": "ecb0417a",
   "metadata": {},
   "outputs": [
    {
     "data": {
      "text/plain": [
       "index                           0.000000\n",
       "url                             0.000000\n",
       "address                         0.000000\n",
       "name                            0.000000\n",
       "online_order                    0.000000\n",
       "book_table                      0.000000\n",
       "rate                           15.033741\n",
       "votes                           0.000000\n",
       "phone                           2.335789\n",
       "location                        0.040606\n",
       "rest_type                       0.438927\n",
       "dish_liked                     54.291626\n",
       "cuisines                        0.087012\n",
       "approx_cost(for two people)     0.669026\n",
       "reviews_list                    0.000000\n",
       "menu_item                       0.000000\n",
       "listed_in(type)                 0.000000\n",
       "listed_in(city)                 0.000000\n",
       "dtype: float64"
      ]
     },
     "execution_count": 5,
     "metadata": {},
     "output_type": "execute_result"
    }
   ],
   "source": [
    "# From above we noticed some missing data, lets confirm\n",
    "\n",
    "df.isnull().sum()/len(df)*100"
   ]
  },
  {
   "cell_type": "code",
   "execution_count": 6,
   "id": "a491eac4",
   "metadata": {},
   "outputs": [
    {
     "data": {
      "text/plain": [
       "array(['4.1/5', '3.8/5', '3.7/5', '3.6/5', '4.6/5', '4.0/5', '4.2/5',\n",
       "       '3.9/5', '3.1/5', '3.0/5', '3.2/5', '3.3/5', '2.8/5', '4.4/5',\n",
       "       '4.3/5', 'NEW', '2.9/5', '3.5/5', None, '2.6/5', '3.8 /5', '3.4/5',\n",
       "       '4.5/5', '2.5/5', '2.7/5', '4.7/5', '2.4/5', '2.2/5', '2.3/5',\n",
       "       '3.4 /5', '-', '3.6 /5', '4.8/5', '3.9 /5', '4.2 /5', '4.0 /5',\n",
       "       '4.1 /5', '3.7 /5', '3.1 /5', '2.9 /5', '3.3 /5', '2.8 /5',\n",
       "       '3.5 /5', '2.7 /5', '2.5 /5', '3.2 /5', '2.6 /5', '4.5 /5',\n",
       "       '4.3 /5', '4.4 /5', '4.9/5', '2.1/5', '2.0/5', '1.8/5', '4.6 /5',\n",
       "       '4.9 /5', '3.0 /5', '4.8 /5', '2.3 /5', '4.7 /5', '2.4 /5',\n",
       "       '2.1 /5', '2.2 /5', '2.0 /5', '1.8 /5'], dtype=object)"
      ]
     },
     "execution_count": 6,
     "metadata": {},
     "output_type": "execute_result"
    }
   ],
   "source": [
    "# Lets deal with the missing values, first, let's check the columns containing the missing values\n",
    "df['rate'].unique()"
   ]
  },
  {
   "cell_type": "code",
   "execution_count": 7,
   "id": "a8996cf8",
   "metadata": {},
   "outputs": [
    {
     "data": {
      "text/plain": [
       "array(['4.1/5', '3.8/5', '3.7/5', '3.6/5', '4.6/5', '4.0/5', '4.2/5',\n",
       "       '3.9/5', '3.1/5', '3.0/5', '3.2/5', '3.3/5', '2.8/5', '4.4/5',\n",
       "       '4.3/5', nan, '2.9/5', '3.5/5', None, '2.6/5', '3.8 /5', '3.4/5',\n",
       "       '4.5/5', '2.5/5', '2.7/5', '4.7/5', '2.4/5', '2.2/5', '2.3/5',\n",
       "       '3.4 /5', '3.6 /5', '4.8/5', '3.9 /5', '4.2 /5', '4.0 /5',\n",
       "       '4.1 /5', '3.7 /5', '3.1 /5', '2.9 /5', '3.3 /5', '2.8 /5',\n",
       "       '3.5 /5', '2.7 /5', '2.5 /5', '3.2 /5', '2.6 /5', '4.5 /5',\n",
       "       '4.3 /5', '4.4 /5', '4.9/5', '2.1/5', '2.0/5', '1.8/5', '4.6 /5',\n",
       "       '4.9 /5', '3.0 /5', '4.8 /5', '2.3 /5', '4.7 /5', '2.4 /5',\n",
       "       '2.1 /5', '2.2 /5', '2.0 /5', '1.8 /5'], dtype=object)"
      ]
     },
     "execution_count": 7,
     "metadata": {},
     "output_type": "execute_result"
    }
   ],
   "source": [
    "# from the rate column, there are some inconsistencies in the values ('NEW', '-')\n",
    "\n",
    "df['rate'].replace(('NEW', '-'), np.nan, inplace = True)\n",
    "df['rate'].unique()"
   ]
  },
  {
   "cell_type": "code",
   "execution_count": 8,
   "id": "d9739cdb",
   "metadata": {},
   "outputs": [
    {
     "data": {
      "text/plain": [
       "0        4.1\n",
       "1        4.1\n",
       "2        3.8\n",
       "3        3.7\n",
       "4        3.8\n",
       "        ... \n",
       "51712    3.6\n",
       "51713    NaN\n",
       "51714    NaN\n",
       "51715    4.3\n",
       "51716    3.4\n",
       "Name: rate, Length: 51717, dtype: float64"
      ]
     },
     "execution_count": 8,
     "metadata": {},
     "output_type": "execute_result"
    }
   ],
   "source": [
    "# formatting the rate column to only show the rating without the divide by 5(/5)\n",
    "\n",
    "df['rate'] = df['rate'].apply(lambda x: float(x.split('/')[0]) if type(x) == str else x)\n",
    "df['rate']"
   ]
  },
  {
   "cell_type": "code",
   "execution_count": 9,
   "id": "f524d7f1",
   "metadata": {},
   "outputs": [
    {
     "data": {
      "text/html": [
       "<div>\n",
       "<style scoped>\n",
       "    .dataframe tbody tr th:only-of-type {\n",
       "        vertical-align: middle;\n",
       "    }\n",
       "\n",
       "    .dataframe tbody tr th {\n",
       "        vertical-align: top;\n",
       "    }\n",
       "\n",
       "    .dataframe thead th {\n",
       "        text-align: right;\n",
       "    }\n",
       "</style>\n",
       "<table border=\"1\" class=\"dataframe\">\n",
       "  <thead>\n",
       "    <tr style=\"text-align: right;\">\n",
       "      <th>online_order</th>\n",
       "      <th>No</th>\n",
       "      <th>Yes</th>\n",
       "    </tr>\n",
       "    <tr>\n",
       "      <th>rate</th>\n",
       "      <th></th>\n",
       "      <th></th>\n",
       "    </tr>\n",
       "  </thead>\n",
       "  <tbody>\n",
       "    <tr>\n",
       "      <th>1.8</th>\n",
       "      <td>5</td>\n",
       "      <td>0</td>\n",
       "    </tr>\n",
       "    <tr>\n",
       "      <th>2.0</th>\n",
       "      <td>11</td>\n",
       "      <td>0</td>\n",
       "    </tr>\n",
       "    <tr>\n",
       "      <th>2.1</th>\n",
       "      <td>9</td>\n",
       "      <td>15</td>\n",
       "    </tr>\n",
       "    <tr>\n",
       "      <th>2.2</th>\n",
       "      <td>10</td>\n",
       "      <td>16</td>\n",
       "    </tr>\n",
       "    <tr>\n",
       "      <th>2.3</th>\n",
       "      <td>29</td>\n",
       "      <td>22</td>\n",
       "    </tr>\n",
       "    <tr>\n",
       "      <th>2.4</th>\n",
       "      <td>36</td>\n",
       "      <td>34</td>\n",
       "    </tr>\n",
       "    <tr>\n",
       "      <th>2.5</th>\n",
       "      <td>38</td>\n",
       "      <td>63</td>\n",
       "    </tr>\n",
       "    <tr>\n",
       "      <th>2.6</th>\n",
       "      <td>83</td>\n",
       "      <td>177</td>\n",
       "    </tr>\n",
       "    <tr>\n",
       "      <th>2.7</th>\n",
       "      <td>141</td>\n",
       "      <td>166</td>\n",
       "    </tr>\n",
       "    <tr>\n",
       "      <th>2.8</th>\n",
       "      <td>224</td>\n",
       "      <td>376</td>\n",
       "    </tr>\n",
       "    <tr>\n",
       "      <th>2.9</th>\n",
       "      <td>314</td>\n",
       "      <td>488</td>\n",
       "    </tr>\n",
       "    <tr>\n",
       "      <th>3.0</th>\n",
       "      <td>439</td>\n",
       "      <td>584</td>\n",
       "    </tr>\n",
       "    <tr>\n",
       "      <th>3.1</th>\n",
       "      <td>587</td>\n",
       "      <td>974</td>\n",
       "    </tr>\n",
       "    <tr>\n",
       "      <th>3.2</th>\n",
       "      <td>829</td>\n",
       "      <td>1044</td>\n",
       "    </tr>\n",
       "    <tr>\n",
       "      <th>3.3</th>\n",
       "      <td>1137</td>\n",
       "      <td>1173</td>\n",
       "    </tr>\n",
       "    <tr>\n",
       "      <th>3.4</th>\n",
       "      <td>1024</td>\n",
       "      <td>1452</td>\n",
       "    </tr>\n",
       "    <tr>\n",
       "      <th>3.5</th>\n",
       "      <td>1090</td>\n",
       "      <td>1694</td>\n",
       "    </tr>\n",
       "    <tr>\n",
       "      <th>3.6</th>\n",
       "      <td>1090</td>\n",
       "      <td>2226</td>\n",
       "    </tr>\n",
       "    <tr>\n",
       "      <th>3.7</th>\n",
       "      <td>1172</td>\n",
       "      <td>2649</td>\n",
       "    </tr>\n",
       "    <tr>\n",
       "      <th>3.8</th>\n",
       "      <td>1147</td>\n",
       "      <td>2726</td>\n",
       "    </tr>\n",
       "    <tr>\n",
       "      <th>3.9</th>\n",
       "      <td>1017</td>\n",
       "      <td>2955</td>\n",
       "    </tr>\n",
       "    <tr>\n",
       "      <th>4.0</th>\n",
       "      <td>874</td>\n",
       "      <td>2309</td>\n",
       "    </tr>\n",
       "    <tr>\n",
       "      <th>4.1</th>\n",
       "      <td>843</td>\n",
       "      <td>2105</td>\n",
       "    </tr>\n",
       "    <tr>\n",
       "      <th>4.2</th>\n",
       "      <td>648</td>\n",
       "      <td>1536</td>\n",
       "    </tr>\n",
       "    <tr>\n",
       "      <th>4.3</th>\n",
       "      <td>692</td>\n",
       "      <td>1001</td>\n",
       "    </tr>\n",
       "    <tr>\n",
       "      <th>4.4</th>\n",
       "      <td>374</td>\n",
       "      <td>773</td>\n",
       "    </tr>\n",
       "    <tr>\n",
       "      <th>4.5</th>\n",
       "      <td>297</td>\n",
       "      <td>359</td>\n",
       "    </tr>\n",
       "    <tr>\n",
       "      <th>4.6</th>\n",
       "      <td>140</td>\n",
       "      <td>160</td>\n",
       "    </tr>\n",
       "    <tr>\n",
       "      <th>4.7</th>\n",
       "      <td>113</td>\n",
       "      <td>54</td>\n",
       "    </tr>\n",
       "    <tr>\n",
       "      <th>4.8</th>\n",
       "      <td>34</td>\n",
       "      <td>32</td>\n",
       "    </tr>\n",
       "    <tr>\n",
       "      <th>4.9</th>\n",
       "      <td>12</td>\n",
       "      <td>43</td>\n",
       "    </tr>\n",
       "  </tbody>\n",
       "</table>\n",
       "</div>"
      ],
      "text/plain": [
       "online_order    No   Yes\n",
       "rate                    \n",
       "1.8              5     0\n",
       "2.0             11     0\n",
       "2.1              9    15\n",
       "2.2             10    16\n",
       "2.3             29    22\n",
       "2.4             36    34\n",
       "2.5             38    63\n",
       "2.6             83   177\n",
       "2.7            141   166\n",
       "2.8            224   376\n",
       "2.9            314   488\n",
       "3.0            439   584\n",
       "3.1            587   974\n",
       "3.2            829  1044\n",
       "3.3           1137  1173\n",
       "3.4           1024  1452\n",
       "3.5           1090  1694\n",
       "3.6           1090  2226\n",
       "3.7           1172  2649\n",
       "3.8           1147  2726\n",
       "3.9           1017  2955\n",
       "4.0            874  2309\n",
       "4.1            843  2105\n",
       "4.2            648  1536\n",
       "4.3            692  1001\n",
       "4.4            374   773\n",
       "4.5            297   359\n",
       "4.6            140   160\n",
       "4.7            113    54\n",
       "4.8             34    32\n",
       "4.9             12    43"
      ]
     },
     "execution_count": 9,
     "metadata": {},
     "output_type": "execute_result"
    }
   ],
   "source": [
    "# Analysing the relationship between online orders and rating of the restaurant\n",
    "# pivot table\n",
    "\n",
    "pivot = pd.crosstab(df['rate'], df['online_order'])\n",
    "pivot"
   ]
  },
  {
   "cell_type": "code",
   "execution_count": 10,
   "id": "f5e54c82",
   "metadata": {},
   "outputs": [
    {
     "data": {
      "text/plain": [
       "<Axes: xlabel='rate'>"
      ]
     },
     "execution_count": 10,
     "metadata": {},
     "output_type": "execute_result"
    },
    {
     "data": {
      "image/png": "[encoded data removed]",
      "text/plain": [
       "<Figure size 640x480 with 1 Axes>"
      ]
     },
     "metadata": {},
     "output_type": "display_data"
    }
   ],
   "source": [
    "# visualize in a stacked bar chart\n",
    "\n",
    "pivot.plot(kind = 'bar', stacked = True)"
   ]
  },
  {
   "cell_type": "code",
   "execution_count": 11,
   "id": "e238e536",
   "metadata": {},
   "outputs": [
    {
     "data": {
      "text/html": [
       "<div>\n",
       "<style scoped>\n",
       "    .dataframe tbody tr th:only-of-type {\n",
       "        vertical-align: middle;\n",
       "    }\n",
       "\n",
       "    .dataframe tbody tr th {\n",
       "        vertical-align: top;\n",
       "    }\n",
       "\n",
       "    .dataframe thead th {\n",
       "        text-align: right;\n",
       "    }\n",
       "</style>\n",
       "<table border=\"1\" class=\"dataframe\">\n",
       "  <thead>\n",
       "    <tr style=\"text-align: right;\">\n",
       "      <th>online_order</th>\n",
       "      <th>No</th>\n",
       "      <th>Yes</th>\n",
       "    </tr>\n",
       "    <tr>\n",
       "      <th>rate</th>\n",
       "      <th></th>\n",
       "      <th></th>\n",
       "    </tr>\n",
       "  </thead>\n",
       "  <tbody>\n",
       "    <tr>\n",
       "      <th>1.8</th>\n",
       "      <td>100.000000</td>\n",
       "      <td>0.000000</td>\n",
       "    </tr>\n",
       "    <tr>\n",
       "      <th>2.0</th>\n",
       "      <td>100.000000</td>\n",
       "      <td>0.000000</td>\n",
       "    </tr>\n",
       "    <tr>\n",
       "      <th>2.1</th>\n",
       "      <td>37.500000</td>\n",
       "      <td>62.500000</td>\n",
       "    </tr>\n",
       "    <tr>\n",
       "      <th>2.2</th>\n",
       "      <td>38.461538</td>\n",
       "      <td>61.538462</td>\n",
       "    </tr>\n",
       "    <tr>\n",
       "      <th>2.3</th>\n",
       "      <td>56.862745</td>\n",
       "      <td>43.137255</td>\n",
       "    </tr>\n",
       "    <tr>\n",
       "      <th>2.4</th>\n",
       "      <td>51.428571</td>\n",
       "      <td>48.571429</td>\n",
       "    </tr>\n",
       "    <tr>\n",
       "      <th>2.5</th>\n",
       "      <td>37.623762</td>\n",
       "      <td>62.376238</td>\n",
       "    </tr>\n",
       "    <tr>\n",
       "      <th>2.6</th>\n",
       "      <td>31.923077</td>\n",
       "      <td>68.076923</td>\n",
       "    </tr>\n",
       "    <tr>\n",
       "      <th>2.7</th>\n",
       "      <td>45.928339</td>\n",
       "      <td>54.071661</td>\n",
       "    </tr>\n",
       "    <tr>\n",
       "      <th>2.8</th>\n",
       "      <td>37.333333</td>\n",
       "      <td>62.666667</td>\n",
       "    </tr>\n",
       "    <tr>\n",
       "      <th>2.9</th>\n",
       "      <td>39.152120</td>\n",
       "      <td>60.847880</td>\n",
       "    </tr>\n",
       "    <tr>\n",
       "      <th>3.0</th>\n",
       "      <td>42.913001</td>\n",
       "      <td>57.086999</td>\n",
       "    </tr>\n",
       "    <tr>\n",
       "      <th>3.1</th>\n",
       "      <td>37.604100</td>\n",
       "      <td>62.395900</td>\n",
       "    </tr>\n",
       "    <tr>\n",
       "      <th>3.2</th>\n",
       "      <td>44.260545</td>\n",
       "      <td>55.739455</td>\n",
       "    </tr>\n",
       "    <tr>\n",
       "      <th>3.3</th>\n",
       "      <td>49.220779</td>\n",
       "      <td>50.779221</td>\n",
       "    </tr>\n",
       "    <tr>\n",
       "      <th>3.4</th>\n",
       "      <td>41.357027</td>\n",
       "      <td>58.642973</td>\n",
       "    </tr>\n",
       "    <tr>\n",
       "      <th>3.5</th>\n",
       "      <td>39.152299</td>\n",
       "      <td>60.847701</td>\n",
       "    </tr>\n",
       "    <tr>\n",
       "      <th>3.6</th>\n",
       "      <td>32.870929</td>\n",
       "      <td>67.129071</td>\n",
       "    </tr>\n",
       "    <tr>\n",
       "      <th>3.7</th>\n",
       "      <td>30.672599</td>\n",
       "      <td>69.327401</td>\n",
       "    </tr>\n",
       "    <tr>\n",
       "      <th>3.8</th>\n",
       "      <td>29.615285</td>\n",
       "      <td>70.384715</td>\n",
       "    </tr>\n",
       "    <tr>\n",
       "      <th>3.9</th>\n",
       "      <td>25.604230</td>\n",
       "      <td>74.395770</td>\n",
       "    </tr>\n",
       "    <tr>\n",
       "      <th>4.0</th>\n",
       "      <td>27.458373</td>\n",
       "      <td>72.541627</td>\n",
       "    </tr>\n",
       "    <tr>\n",
       "      <th>4.1</th>\n",
       "      <td>28.595658</td>\n",
       "      <td>71.404342</td>\n",
       "    </tr>\n",
       "    <tr>\n",
       "      <th>4.2</th>\n",
       "      <td>29.670330</td>\n",
       "      <td>70.329670</td>\n",
       "    </tr>\n",
       "    <tr>\n",
       "      <th>4.3</th>\n",
       "      <td>40.874188</td>\n",
       "      <td>59.125812</td>\n",
       "    </tr>\n",
       "    <tr>\n",
       "      <th>4.4</th>\n",
       "      <td>32.606800</td>\n",
       "      <td>67.393200</td>\n",
       "    </tr>\n",
       "    <tr>\n",
       "      <th>4.5</th>\n",
       "      <td>45.274390</td>\n",
       "      <td>54.725610</td>\n",
       "    </tr>\n",
       "    <tr>\n",
       "      <th>4.6</th>\n",
       "      <td>46.666667</td>\n",
       "      <td>53.333333</td>\n",
       "    </tr>\n",
       "    <tr>\n",
       "      <th>4.7</th>\n",
       "      <td>67.664671</td>\n",
       "      <td>32.335329</td>\n",
       "    </tr>\n",
       "    <tr>\n",
       "      <th>4.8</th>\n",
       "      <td>51.515152</td>\n",
       "      <td>48.484848</td>\n",
       "    </tr>\n",
       "    <tr>\n",
       "      <th>4.9</th>\n",
       "      <td>21.818182</td>\n",
       "      <td>78.181818</td>\n",
       "    </tr>\n",
       "  </tbody>\n",
       "</table>\n",
       "</div>"
      ],
      "text/plain": [
       "online_order          No        Yes\n",
       "rate                               \n",
       "1.8           100.000000   0.000000\n",
       "2.0           100.000000   0.000000\n",
       "2.1            37.500000  62.500000\n",
       "2.2            38.461538  61.538462\n",
       "2.3            56.862745  43.137255\n",
       "2.4            51.428571  48.571429\n",
       "2.5            37.623762  62.376238\n",
       "2.6            31.923077  68.076923\n",
       "2.7            45.928339  54.071661\n",
       "2.8            37.333333  62.666667\n",
       "2.9            39.152120  60.847880\n",
       "3.0            42.913001  57.086999\n",
       "3.1            37.604100  62.395900\n",
       "3.2            44.260545  55.739455\n",
       "3.3            49.220779  50.779221\n",
       "3.4            41.357027  58.642973\n",
       "3.5            39.152299  60.847701\n",
       "3.6            32.870929  67.129071\n",
       "3.7            30.672599  69.327401\n",
       "3.8            29.615285  70.384715\n",
       "3.9            25.604230  74.395770\n",
       "4.0            27.458373  72.541627\n",
       "4.1            28.595658  71.404342\n",
       "4.2            29.670330  70.329670\n",
       "4.3            40.874188  59.125812\n",
       "4.4            32.606800  67.393200\n",
       "4.5            45.274390  54.725610\n",
       "4.6            46.666667  53.333333\n",
       "4.7            67.664671  32.335329\n",
       "4.8            51.515152  48.484848\n",
       "4.9            21.818182  78.181818"
      ]
     },
     "execution_count": 11,
     "metadata": {},
     "output_type": "execute_result"
    }
   ],
   "source": [
    "# to visualize in a 100% stacked bar chart, we normalize the data in percentage\n",
    "normalize_df = (pivot.div(pivot.sum(axis = 1).astype('float'), axis = 0))*100\n",
    "normalize_df"
   ]
  },
  {
   "cell_type": "code",
   "execution_count": 12,
   "id": "12427d16",
   "metadata": {},
   "outputs": [
    {
     "data": {
      "text/plain": [
       "<Axes: xlabel='rate'>"
      ]
     },
     "execution_count": 12,
     "metadata": {},
     "output_type": "execute_result"
    },
    {
     "data": {
      "image/png": "[encoded data removed]",
      "text/plain": [
       "<Figure size 640x480 with 1 Axes>"
      ]
     },
     "metadata": {},
     "output_type": "display_data"
    }
   ],
   "source": [
    "# Visualize a 100% stacked bar chart\n",
    "normalize_df.plot(kind = 'bar', stacked = True)"
   ]
  },
  {
   "cell_type": "code",
   "execution_count": 13,
   "id": "a51cccc2",
   "metadata": {},
   "outputs": [
    {
     "data": {
      "text/plain": [
       "227"
      ]
     },
     "execution_count": 13,
     "metadata": {},
     "output_type": "execute_result"
    }
   ],
   "source": [
    "# Text Cleaning\n",
    "\n",
    "df['rest_type'].isnull().sum()"
   ]
  },
  {
   "cell_type": "code",
   "execution_count": 14,
   "id": "38b3141b",
   "metadata": {},
   "outputs": [
    {
     "data": {
      "text/plain": [
       "0"
      ]
     },
     "execution_count": 14,
     "metadata": {},
     "output_type": "execute_result"
    }
   ],
   "source": [
    "data = df.dropna(subset = 'rest_type')\n",
    "data['rest_type'].isnull().sum()"
   ]
  },
  {
   "cell_type": "code",
   "execution_count": 15,
   "id": "df90fa58",
   "metadata": {},
   "outputs": [
    {
     "data": {
      "text/plain": [
       "<bound method Series.unique of 0              Casual Dining\n",
       "1              Casual Dining\n",
       "2        Cafe, Casual Dining\n",
       "3                Quick Bites\n",
       "4              Casual Dining\n",
       "                ...         \n",
       "51712                    Bar\n",
       "51713                    Bar\n",
       "51714                    Bar\n",
       "51715                    Bar\n",
       "51716     Bar, Casual Dining\n",
       "Name: rest_type, Length: 51490, dtype: object>"
      ]
     },
     "execution_count": 15,
     "metadata": {},
     "output_type": "execute_result"
    }
   ],
   "source": [
    "data['rest_type'].unique"
   ]
  },
  {
   "cell_type": "code",
   "execution_count": 16,
   "id": "d2160ea2",
   "metadata": {},
   "outputs": [],
   "source": [
    "quick_bite_df = data[data['rest_type'].str.contains('Quick Bites')]"
   ]
  },
  {
   "cell_type": "code",
   "execution_count": 17,
   "id": "87ceeb86",
   "metadata": {},
   "outputs": [
    {
     "data": {
      "text/plain": [
       "Index(['index', 'url', 'address', 'name', 'online_order', 'book_table', 'rate',\n",
       "       'votes', 'phone', 'location', 'rest_type', 'dish_liked', 'cuisines',\n",
       "       'approx_cost(for two people)', 'reviews_list', 'menu_item',\n",
       "       'listed_in(type)', 'listed_in(city)'],\n",
       "      dtype='object')"
      ]
     },
     "execution_count": 17,
     "metadata": {},
     "output_type": "execute_result"
    }
   ],
   "source": [
    "quick_bite_df.columns"
   ]
  },
  {
   "cell_type": "code",
   "execution_count": 18,
   "id": "ff56e4d1",
   "metadata": {},
   "outputs": [],
   "source": [
    "quick_bite_df['reviews_list'] = quick_bite_df['reviews_list'].apply(lambda x : x.lower())"
   ]
  },
  {
   "cell_type": "code",
   "execution_count": 19,
   "id": "4ded5735",
   "metadata": {},
   "outputs": [],
   "source": [
    "from nltk.corpus import RegexpTokenizer"
   ]
  },
  {
   "cell_type": "code",
   "execution_count": 20,
   "id": "29dd4937",
   "metadata": {},
   "outputs": [],
   "source": [
    "tokenizer = RegexpTokenizer('[a-zA-Z]+')"
   ]
  },
  {
   "cell_type": "code",
   "execution_count": 21,
   "id": "a2b53c08",
   "metadata": {},
   "outputs": [
    {
     "data": {
      "text/plain": [
       "RegexpTokenizer(pattern='[a-zA-Z]+', gaps=False, discard_empty=True, flags=re.UNICODE|re.MULTILINE|re.DOTALL)"
      ]
     },
     "execution_count": 21,
     "metadata": {},
     "output_type": "execute_result"
    }
   ],
   "source": [
    "tokenizer"
   ]
  },
  {
   "cell_type": "code",
   "execution_count": 22,
   "id": "503361a0",
   "metadata": {},
   "outputs": [],
   "source": [
    "review_tokens = quick_bite_df['reviews_list'].apply(tokenizer.tokenize)"
   ]
  },
  {
   "cell_type": "code",
   "execution_count": 23,
   "id": "f9e53ee8",
   "metadata": {},
   "outputs": [
    {
     "name": "stdout",
     "output_type": "stream",
     "text": [
      "Requirement already satisfied: nltk in c:\\users\\olayi\\anaconda3\\lib\\site-packages (3.8.1)\n",
      "Requirement already satisfied: click in c:\\users\\olayi\\anaconda3\\lib\\site-packages (from nltk) (8.0.4)\n",
      "Requirement already satisfied: joblib in c:\\users\\olayi\\anaconda3\\lib\\site-packages (from nltk) (1.2.0)\n",
      "Requirement already satisfied: regex>=2021.8.3 in c:\\users\\olayi\\anaconda3\\lib\\site-packages (from nltk) (2022.7.9)\n",
      "Requirement already satisfied: tqdm in c:\\users\\olayi\\anaconda3\\lib\\site-packages (from nltk) (4.65.0)\n",
      "Requirement already satisfied: colorama in c:\\users\\olayi\\anaconda3\\lib\\site-packages (from click->nltk) (0.4.6)\n",
      "Note: you may need to restart the kernel to use updated packages.\n"
     ]
    }
   ],
   "source": [
    "pip install nltk"
   ]
  },
  {
   "cell_type": "code",
   "execution_count": 24,
   "id": "4a96ca3f",
   "metadata": {},
   "outputs": [
    {
     "name": "stderr",
     "output_type": "stream",
     "text": [
      "[nltk_data] Downloading package stopwords to\n",
      "[nltk_data]     C:\\Users\\olayi\\AppData\\Roaming\\nltk_data...\n",
      "[nltk_data]   Package stopwords is already up-to-date!\n"
     ]
    },
    {
     "data": {
      "text/plain": [
       "True"
      ]
     },
     "execution_count": 24,
     "metadata": {},
     "output_type": "execute_result"
    }
   ],
   "source": [
    "import nltk\n",
    "nltk.download('stopwords')"
   ]
  },
  {
   "cell_type": "code",
   "execution_count": 25,
   "id": "703358aa",
   "metadata": {
    "scrolled": true
   },
   "outputs": [],
   "source": [
    "# Unigram Analysis \n",
    "# Performing unigram analysis and removing stopwords\n",
    "\n",
    "from nltk.corpus import stopwords\n",
    "\n"
   ]
  },
  {
   "cell_type": "code",
   "execution_count": 26,
   "id": "050d6020",
   "metadata": {},
   "outputs": [],
   "source": [
    "stopword = stopwords.words('english')"
   ]
  },
  {
   "cell_type": "code",
   "execution_count": 27,
   "id": "997d6124",
   "metadata": {},
   "outputs": [
    {
     "data": {
      "text/plain": [
       "3        [rated, rated, n, great, food, and, proper, ka...\n",
       "23       [rated, rated, n, so, went, here, with, friend...\n",
       "26       [rated, rated, n, please, provide, some, extra...\n",
       "31       [rated, rated, n, worst, restaurant, ever, veg...\n",
       "34       [rated, rated, n, not, worth, for, the, money,...\n",
       "                               ...                        \n",
       "51641    [rated, rated, n, food, is, not, upto, the, ma...\n",
       "51642                                                   []\n",
       "51643                                                   []\n",
       "51644                                                   []\n",
       "51645    [rated, rated, n, i, was, randomly, looking, o...\n",
       "Name: reviews_list, Length: 20639, dtype: object"
      ]
     },
     "execution_count": 27,
     "metadata": {},
     "output_type": "execute_result"
    }
   ],
   "source": [
    "review_tokens"
   ]
  },
  {
   "cell_type": "code",
   "execution_count": 28,
   "id": "caab78ba",
   "metadata": {},
   "outputs": [],
   "source": [
    "stopword.extend(['rated', 'n', 'nan', 'x', 'xa', 'f', 'c', 'Rated', 'RATED'])"
   ]
  },
  {
   "cell_type": "code",
   "execution_count": 29,
   "id": "f4204ded",
   "metadata": {},
   "outputs": [
    {
     "name": "stdout",
     "output_type": "stream",
     "text": [
      "['i', 'me', 'my', 'myself', 'we', 'our', 'ours', 'ourselves', 'you', \"you're\", \"you've\", \"you'll\", \"you'd\", 'your', 'yours', 'yourself', 'yourselves', 'he', 'him', 'his', 'himself', 'she', \"she's\", 'her', 'hers', 'herself', 'it', \"it's\", 'its', 'itself', 'they', 'them', 'their', 'theirs', 'themselves', 'what', 'which', 'who', 'whom', 'this', 'that', \"that'll\", 'these', 'those', 'am', 'is', 'are', 'was', 'were', 'be', 'been', 'being', 'have', 'has', 'had', 'having', 'do', 'does', 'did', 'doing', 'a', 'an', 'the', 'and', 'but', 'if', 'or', 'because', 'as', 'until', 'while', 'of', 'at', 'by', 'for', 'with', 'about', 'against', 'between', 'into', 'through', 'during', 'before', 'after', 'above', 'below', 'to', 'from', 'up', 'down', 'in', 'out', 'on', 'off', 'over', 'under', 'again', 'further', 'then', 'once', 'here', 'there', 'when', 'where', 'why', 'how', 'all', 'any', 'both', 'each', 'few', 'more', 'most', 'other', 'some', 'such', 'no', 'nor', 'not', 'only', 'own', 'same', 'so', 'than', 'too', 'very', 's', 't', 'can', 'will', 'just', 'don', \"don't\", 'should', \"should've\", 'now', 'd', 'll', 'm', 'o', 're', 've', 'y', 'ain', 'aren', \"aren't\", 'couldn', \"couldn't\", 'didn', \"didn't\", 'doesn', \"doesn't\", 'hadn', \"hadn't\", 'hasn', \"hasn't\", 'haven', \"haven't\", 'isn', \"isn't\", 'ma', 'mightn', \"mightn't\", 'mustn', \"mustn't\", 'needn', \"needn't\", 'shan', \"shan't\", 'shouldn', \"shouldn't\", 'wasn', \"wasn't\", 'weren', \"weren't\", 'won', \"won't\", 'wouldn', \"wouldn't\", 'rated', 'n', 'nan', 'x', 'xa', 'f', 'c', 'Rated', 'RATED']\n"
     ]
    }
   ],
   "source": [
    "print(stopword)"
   ]
  },
  {
   "cell_type": "code",
   "execution_count": 30,
   "id": "abc5fccc",
   "metadata": {},
   "outputs": [],
   "source": [
    "review_token_cleaned = review_tokens.apply(lambda each_review: [token for token in each_review if token not in stopword])"
   ]
  },
  {
   "cell_type": "code",
   "execution_count": 31,
   "id": "86af0759",
   "metadata": {},
   "outputs": [
    {
     "data": {
      "text/plain": [
       "3        [great, food, proper, karnataka, style, full, ...\n",
       "23       [went, friends, tea, ambience, striking, say, ...\n",
       "26       [please, provide, extra, sambal, quantity, les...\n",
       "31       [worst, restaurant, ever, veg, manchurian, wor...\n",
       "34       [worth, money, pay, ambience, good, enough, se...\n",
       "                               ...                        \n",
       "51641    [food, upto, mark, nquantity, food, little, nc...\n",
       "51642                                                   []\n",
       "51643                                                   []\n",
       "51644                                                   []\n",
       "51645    [randomly, looking, zomato, burger, show, rest...\n",
       "Name: reviews_list, Length: 20639, dtype: object"
      ]
     },
     "execution_count": 31,
     "metadata": {},
     "output_type": "execute_result"
    }
   ],
   "source": [
    "review_token_cleaned"
   ]
  },
  {
   "cell_type": "code",
   "execution_count": 32,
   "id": "bf2b4f2f",
   "metadata": {},
   "outputs": [],
   "source": [
    "# Unigram analysis refers to the study or analysis of individual words in a given text or corpus\n",
    "\n",
    "total_review_2D = list(review_token_cleaned)"
   ]
  },
  {
   "cell_type": "code",
   "execution_count": 33,
   "id": "476e9d3a",
   "metadata": {},
   "outputs": [],
   "source": [
    "total_review_1D = []\n",
    "for review in total_review_2D:\n",
    "    for word in review:\n",
    "        total_review_1D.append(word)"
   ]
  },
  {
   "cell_type": "code",
   "execution_count": 34,
   "id": "99d95fd3",
   "metadata": {},
   "outputs": [
    {
     "data": {
      "text/plain": [
       "[('food', 170672),\n",
       " ('good', 169085),\n",
       " ('place', 142338),\n",
       " ('chicken', 76826),\n",
       " ('taste', 70602),\n",
       " ('ordered', 55485),\n",
       " ('try', 43663),\n",
       " ('one', 43359),\n",
       " ('also', 42296),\n",
       " ('like', 41979)]"
      ]
     },
     "execution_count": 34,
     "metadata": {},
     "output_type": "execute_result"
    }
   ],
   "source": [
    "from collections import Counter\n",
    "\n",
    "Counter(total_review_1D).most_common(10)"
   ]
  },
  {
   "cell_type": "code",
   "execution_count": 35,
   "id": "dec9f075",
   "metadata": {},
   "outputs": [],
   "source": [
    "# Another method to get the counter\n",
    "\n",
    "from nltk import FreqDist\n",
    "\n",
    "fd = FreqDist()"
   ]
  },
  {
   "cell_type": "code",
   "execution_count": 36,
   "id": "825e55c0",
   "metadata": {},
   "outputs": [],
   "source": [
    "for word in total_review_1D:\n",
    "    fd[word] = fd[word] + 1"
   ]
  },
  {
   "cell_type": "code",
   "execution_count": 37,
   "id": "cbcb665d",
   "metadata": {},
   "outputs": [
    {
     "data": {
      "text/plain": [
       "[('food', 170672),\n",
       " ('good', 169085),\n",
       " ('place', 142338),\n",
       " ('chicken', 76826),\n",
       " ('taste', 70602),\n",
       " ('ordered', 55485),\n",
       " ('try', 43663),\n",
       " ('one', 43359),\n",
       " ('also', 42296),\n",
       " ('like', 41979),\n",
       " ('service', 39651),\n",
       " ('time', 38409),\n",
       " ('order', 37012),\n",
       " ('really', 36239),\n",
       " ('biryani', 35488),\n",
       " ('best', 33589),\n",
       " ('restaurant', 32669),\n",
       " ('great', 32601),\n",
       " ('quality', 30940),\n",
       " ('nice', 30744)]"
      ]
     },
     "execution_count": 37,
     "metadata": {},
     "output_type": "execute_result"
    }
   ],
   "source": [
    "fd.most_common(20)"
   ]
  },
  {
   "cell_type": "code",
   "execution_count": 38,
   "id": "b02466b1",
   "metadata": {},
   "outputs": [
    {
     "data": {
      "image/png": "[encoded data removed]",
      "text/plain": [
       "<Figure size 640x480 with 1 Axes>"
      ]
     },
     "metadata": {},
     "output_type": "display_data"
    },
    {
     "data": {
      "text/plain": [
       "<Axes: xlabel='Samples', ylabel='Counts'>"
      ]
     },
     "execution_count": 38,
     "metadata": {},
     "output_type": "execute_result"
    }
   ],
   "source": [
    "fd.plot(20)"
   ]
  },
  {
   "cell_type": "code",
   "execution_count": 39,
   "id": "74fd2dc1",
   "metadata": {},
   "outputs": [],
   "source": [
    "# Bi-gram and Tri-gram Analysis\n",
    "\n",
    "from nltk import FreqDist, bigrams, trigrams\n",
    "\n",
    "bigrams = bigrams(total_review_1D)"
   ]
  },
  {
   "cell_type": "code",
   "execution_count": 40,
   "id": "2a49e707",
   "metadata": {},
   "outputs": [],
   "source": [
    "fd_bigrams = FreqDist()"
   ]
  },
  {
   "cell_type": "code",
   "execution_count": 41,
   "id": "bdf9f8dc",
   "metadata": {},
   "outputs": [],
   "source": [
    "for bigram in bigrams:\n",
    "    fd_bigrams[bigram] = fd_bigrams[bigram] + 1"
   ]
  },
  {
   "cell_type": "code",
   "execution_count": 42,
   "id": "bc41fead",
   "metadata": {},
   "outputs": [
    {
     "data": {
      "text/plain": [
       "[(('must', 'try'), 13250),\n",
       " (('good', 'food'), 11534),\n",
       " (('food', 'good'), 11139),\n",
       " (('really', 'good'), 9919),\n",
       " (('north', 'indian'), 9059),\n",
       " (('pocket', 'friendly'), 8170),\n",
       " (('taste', 'good'), 8122),\n",
       " (('good', 'place'), 8059),\n",
       " (('value', 'money'), 7139),\n",
       " (('south', 'indian'), 7032),\n",
       " (('good', 'taste'), 6593),\n",
       " (('visit', 'place'), 6296),\n",
       " (('also', 'good'), 6170),\n",
       " (('one', 'best'), 6116),\n",
       " (('fried', 'rice'), 5960),\n",
       " (('quality', 'food'), 5822),\n",
       " (('chicken', 'biryani'), 5536),\n",
       " (('non', 'veg'), 5296),\n",
       " (('ordered', 'chicken'), 5256),\n",
       " (('indian', 'food'), 4992)]"
      ]
     },
     "execution_count": 42,
     "metadata": {},
     "output_type": "execute_result"
    }
   ],
   "source": [
    "fd_bigrams.most_common(20)"
   ]
  },
  {
   "cell_type": "code",
   "execution_count": 43,
   "id": "304a11a0",
   "metadata": {},
   "outputs": [],
   "source": [
    "trigrams = trigrams(total_review_1D)"
   ]
  },
  {
   "cell_type": "code",
   "execution_count": 44,
   "id": "5d8ca755",
   "metadata": {},
   "outputs": [],
   "source": [
    "fd_trigram = FreqDist()"
   ]
  },
  {
   "cell_type": "code",
   "execution_count": 45,
   "id": "614a7391",
   "metadata": {},
   "outputs": [],
   "source": [
    "for trigram in trigrams:\n",
    "    fd_trigram[trigram] = fd_trigram[trigram] + 1"
   ]
  },
  {
   "cell_type": "code",
   "execution_count": 46,
   "id": "9118b317",
   "metadata": {},
   "outputs": [
    {
     "data": {
      "text/plain": [
       "[(('north', 'indian', 'food'), 3079),\n",
       " (('paneer', 'butter', 'masala'), 1638),\n",
       " (('must', 'visit', 'place'), 1594),\n",
       " (('south', 'indian', 'food'), 1486),\n",
       " (('good', 'food', 'good'), 1367),\n",
       " (('ordered', 'chicken', 'biryani'), 1275),\n",
       " (('pocket', 'friendly', 'place'), 1059),\n",
       " (('chicken', 'fried', 'rice'), 1050),\n",
       " (('food', 'really', 'good'), 1021),\n",
       " (('veg', 'non', 'veg'), 1013),\n",
       " (('worst', 'food', 'ever'), 939),\n",
       " (('like', 'home', 'made'), 897),\n",
       " (('must', 'try', 'place'), 896),\n",
       " (('good', 'taste', 'good'), 827),\n",
       " (('good', 'value', 'money'), 825),\n",
       " (('south', 'indian', 'breakfast'), 816),\n",
       " (('home', 'made', 'food'), 787),\n",
       " (('food', 'reasonable', 'price'), 746),\n",
       " (('good', 'quality', 'food'), 732),\n",
       " (('ghar', 'ka', 'khana'), 693)]"
      ]
     },
     "execution_count": 46,
     "metadata": {},
     "output_type": "execute_result"
    }
   ],
   "source": [
    "fd_trigram.most_common(20)"
   ]
  },
  {
   "cell_type": "code",
   "execution_count": 47,
   "id": "fedce55b",
   "metadata": {},
   "outputs": [
    {
     "name": "stdout",
     "output_type": "stream",
     "text": [
      "Requirement already satisfied: geocoder in c:\\users\\olayi\\anaconda3\\lib\\site-packages (1.38.1)\n",
      "Requirement already satisfied: click in c:\\users\\olayi\\anaconda3\\lib\\site-packages (from geocoder) (8.0.4)\n",
      "Requirement already satisfied: future in c:\\users\\olayi\\anaconda3\\lib\\site-packages (from geocoder) (0.18.3)\n",
      "Requirement already satisfied: ratelim in c:\\users\\olayi\\anaconda3\\lib\\site-packages (from geocoder) (0.1.6)\n",
      "Requirement already satisfied: requests in c:\\users\\olayi\\anaconda3\\lib\\site-packages (from geocoder) (2.31.0)\n",
      "Requirement already satisfied: six in c:\\users\\olayi\\anaconda3\\lib\\site-packages (from geocoder) (1.16.0)\n",
      "Requirement already satisfied: colorama in c:\\users\\olayi\\anaconda3\\lib\\site-packages (from click->geocoder) (0.4.6)\n",
      "Requirement already satisfied: decorator in c:\\users\\olayi\\anaconda3\\lib\\site-packages (from ratelim->geocoder) (5.1.1)\n",
      "Requirement already satisfied: charset-normalizer<4,>=2 in c:\\users\\olayi\\anaconda3\\lib\\site-packages (from requests->geocoder) (2.0.4)\n",
      "Requirement already satisfied: idna<4,>=2.5 in c:\\users\\olayi\\anaconda3\\lib\\site-packages (from requests->geocoder) (3.4)\n",
      "Requirement already satisfied: urllib3<3,>=1.21.1 in c:\\users\\olayi\\anaconda3\\lib\\site-packages (from requests->geocoder) (1.26.16)\n",
      "Requirement already satisfied: certifi>=2017.4.17 in c:\\users\\olayi\\anaconda3\\lib\\site-packages (from requests->geocoder) (2023.7.22)\n",
      "Requirement already satisfied: geopy in c:\\users\\olayi\\anaconda3\\lib\\site-packages (2.4.1)\n",
      "Requirement already satisfied: geographiclib<3,>=1.52 in c:\\users\\olayi\\anaconda3\\lib\\site-packages (from geopy) (2.0)\n"
     ]
    }
   ],
   "source": [
    "# Extracting geographical- coordinates from data\n",
    "\n",
    "!pip install geocoder\n",
    "!pip install geopy"
   ]
  },
  {
   "cell_type": "code",
   "execution_count": 48,
   "id": "5234c6f9",
   "metadata": {},
   "outputs": [
    {
     "data": {
      "text/plain": [
       "<bound method Series.unique of 0                      Banashankari\n",
       "1                      Banashankari\n",
       "2                      Banashankari\n",
       "3                      Banashankari\n",
       "4                      Basavanagudi\n",
       "                    ...            \n",
       "51712                    Whitefield\n",
       "51713                    Whitefield\n",
       "51714                    Whitefield\n",
       "51715    ITPL Main Road, Whitefield\n",
       "51716    ITPL Main Road, Whitefield\n",
       "Name: location, Length: 51717, dtype: object>"
      ]
     },
     "execution_count": 48,
     "metadata": {},
     "output_type": "execute_result"
    }
   ],
   "source": [
    "df['location'].unique"
   ]
  },
  {
   "cell_type": "code",
   "execution_count": 49,
   "id": "03162174",
   "metadata": {},
   "outputs": [
    {
     "data": {
      "text/plain": [
       "<bound method Series.unique of 0             Banashankari , Bangalore , Karnataka , India\n",
       "1             Banashankari , Bangalore , Karnataka , India\n",
       "2             Banashankari , Bangalore , Karnataka , India\n",
       "3             Banashankari , Bangalore , Karnataka , India\n",
       "4             Basavanagudi , Bangalore , Karnataka , India\n",
       "                               ...                        \n",
       "51712           Whitefield , Bangalore , Karnataka , India\n",
       "51713           Whitefield , Bangalore , Karnataka , India\n",
       "51714           Whitefield , Bangalore , Karnataka , India\n",
       "51715    ITPL Main Road, Whitefield , Bangalore , Karna...\n",
       "51716    ITPL Main Road, Whitefield , Bangalore , Karna...\n",
       "Name: location, Length: 51717, dtype: object>"
      ]
     },
     "execution_count": 49,
     "metadata": {},
     "output_type": "execute_result"
    }
   ],
   "source": [
    "df['location'] = df['location'] + \" , Bangalore , Karnataka , India\"\n",
    "df['location'].unique"
   ]
  },
  {
   "cell_type": "code",
   "execution_count": 50,
   "id": "92a75a76",
   "metadata": {},
   "outputs": [],
   "source": [
    "df_copy = df.copy()"
   ]
  },
  {
   "cell_type": "code",
   "execution_count": 51,
   "id": "1b7031fb",
   "metadata": {},
   "outputs": [
    {
     "data": {
      "text/plain": [
       "21"
      ]
     },
     "execution_count": 51,
     "metadata": {},
     "output_type": "execute_result"
    }
   ],
   "source": [
    "df_copy['location'].isnull().sum()"
   ]
  },
  {
   "cell_type": "code",
   "execution_count": 52,
   "id": "c16c036b",
   "metadata": {},
   "outputs": [],
   "source": [
    "df_copy = df_copy.dropna(subset=['location'])"
   ]
  },
  {
   "cell_type": "code",
   "execution_count": 53,
   "id": "62eeb148",
   "metadata": {},
   "outputs": [
    {
     "data": {
      "text/html": [
       "<div>\n",
       "<style scoped>\n",
       "    .dataframe tbody tr th:only-of-type {\n",
       "        vertical-align: middle;\n",
       "    }\n",
       "\n",
       "    .dataframe tbody tr th {\n",
       "        vertical-align: top;\n",
       "    }\n",
       "\n",
       "    .dataframe thead th {\n",
       "        text-align: right;\n",
       "    }\n",
       "</style>\n",
       "<table border=\"1\" class=\"dataframe\">\n",
       "  <thead>\n",
       "    <tr style=\"text-align: right;\">\n",
       "      <th></th>\n",
       "      <th>names</th>\n",
       "    </tr>\n",
       "  </thead>\n",
       "  <tbody>\n",
       "    <tr>\n",
       "      <th>0</th>\n",
       "      <td>Banashankari , Bangalore , Karnataka , India</td>\n",
       "    </tr>\n",
       "    <tr>\n",
       "      <th>1</th>\n",
       "      <td>Basavanagudi , Bangalore , Karnataka , India</td>\n",
       "    </tr>\n",
       "    <tr>\n",
       "      <th>2</th>\n",
       "      <td>Mysore Road , Bangalore , Karnataka , India</td>\n",
       "    </tr>\n",
       "    <tr>\n",
       "      <th>3</th>\n",
       "      <td>Jayanagar , Bangalore , Karnataka , India</td>\n",
       "    </tr>\n",
       "    <tr>\n",
       "      <th>4</th>\n",
       "      <td>Kumaraswamy Layout , Bangalore , Karnataka , I...</td>\n",
       "    </tr>\n",
       "    <tr>\n",
       "      <th>...</th>\n",
       "      <td>...</td>\n",
       "    </tr>\n",
       "    <tr>\n",
       "      <th>88</th>\n",
       "      <td>West Bangalore , Bangalore , Karnataka , India</td>\n",
       "    </tr>\n",
       "    <tr>\n",
       "      <th>89</th>\n",
       "      <td>Magadi Road , Bangalore , Karnataka , India</td>\n",
       "    </tr>\n",
       "    <tr>\n",
       "      <th>90</th>\n",
       "      <td>Yelahanka , Bangalore , Karnataka , India</td>\n",
       "    </tr>\n",
       "    <tr>\n",
       "      <th>91</th>\n",
       "      <td>Sahakara Nagar , Bangalore , Karnataka , India</td>\n",
       "    </tr>\n",
       "    <tr>\n",
       "      <th>92</th>\n",
       "      <td>Peenya , Bangalore , Karnataka , India</td>\n",
       "    </tr>\n",
       "  </tbody>\n",
       "</table>\n",
       "<p>93 rows × 1 columns</p>\n",
       "</div>"
      ],
      "text/plain": [
       "                                                names\n",
       "0        Banashankari , Bangalore , Karnataka , India\n",
       "1        Basavanagudi , Bangalore , Karnataka , India\n",
       "2         Mysore Road , Bangalore , Karnataka , India\n",
       "3           Jayanagar , Bangalore , Karnataka , India\n",
       "4   Kumaraswamy Layout , Bangalore , Karnataka , I...\n",
       "..                                                ...\n",
       "88     West Bangalore , Bangalore , Karnataka , India\n",
       "89        Magadi Road , Bangalore , Karnataka , India\n",
       "90          Yelahanka , Bangalore , Karnataka , India\n",
       "91     Sahakara Nagar , Bangalore , Karnataka , India\n",
       "92             Peenya , Bangalore , Karnataka , India\n",
       "\n",
       "[93 rows x 1 columns]"
      ]
     },
     "execution_count": 53,
     "metadata": {},
     "output_type": "execute_result"
    }
   ],
   "source": [
    "locations = pd.DataFrame(df_copy['location'].unique(), columns = ['names'])\n",
    "locations"
   ]
  },
  {
   "cell_type": "code",
   "execution_count": 54,
   "id": "a6bad24a",
   "metadata": {},
   "outputs": [],
   "source": [
    "from geopy.geocoders import Nominatim"
   ]
  },
  {
   "cell_type": "code",
   "execution_count": 55,
   "id": "cd0252ae",
   "metadata": {},
   "outputs": [],
   "source": [
    "geolocator = Nominatim(user_agent='app', timeout=None)"
   ]
  },
  {
   "cell_type": "code",
   "execution_count": 56,
   "id": "ac294f8e",
   "metadata": {},
   "outputs": [],
   "source": [
    "lat = []\n",
    "lon = []\n",
    "\n",
    "for location in locations['names']:\n",
    "    location = geolocator.geocode(location)\n",
    "    if location is None:\n",
    "        lat.append(np.nan)\n",
    "        lon.append(np.nan)\n",
    "    else:\n",
    "        lat.append(location.latitude)\n",
    "        lon.append(location.longitude)  "
   ]
  },
  {
   "cell_type": "code",
   "execution_count": 57,
   "id": "abbd54d7",
   "metadata": {},
   "outputs": [],
   "source": [
    "locations['latitudes'] = lat\n",
    "locations['longitudes'] = lon"
   ]
  },
  {
   "cell_type": "code",
   "execution_count": 58,
   "id": "4f260cc3",
   "metadata": {},
   "outputs": [
    {
     "data": {
      "text/html": [
       "<div>\n",
       "<style scoped>\n",
       "    .dataframe tbody tr th:only-of-type {\n",
       "        vertical-align: middle;\n",
       "    }\n",
       "\n",
       "    .dataframe tbody tr th {\n",
       "        vertical-align: top;\n",
       "    }\n",
       "\n",
       "    .dataframe thead th {\n",
       "        text-align: right;\n",
       "    }\n",
       "</style>\n",
       "<table border=\"1\" class=\"dataframe\">\n",
       "  <thead>\n",
       "    <tr style=\"text-align: right;\">\n",
       "      <th></th>\n",
       "      <th>names</th>\n",
       "      <th>latitudes</th>\n",
       "      <th>longitudes</th>\n",
       "    </tr>\n",
       "  </thead>\n",
       "  <tbody>\n",
       "    <tr>\n",
       "      <th>0</th>\n",
       "      <td>Banashankari , Bangalore , Karnataka , India</td>\n",
       "      <td>12.915219</td>\n",
       "      <td>77.573621</td>\n",
       "    </tr>\n",
       "    <tr>\n",
       "      <th>1</th>\n",
       "      <td>Basavanagudi , Bangalore , Karnataka , India</td>\n",
       "      <td>12.941726</td>\n",
       "      <td>77.575502</td>\n",
       "    </tr>\n",
       "    <tr>\n",
       "      <th>2</th>\n",
       "      <td>Mysore Road , Bangalore , Karnataka , India</td>\n",
       "      <td>12.946662</td>\n",
       "      <td>77.530090</td>\n",
       "    </tr>\n",
       "    <tr>\n",
       "      <th>3</th>\n",
       "      <td>Jayanagar , Bangalore , Karnataka , India</td>\n",
       "      <td>12.929273</td>\n",
       "      <td>77.582423</td>\n",
       "    </tr>\n",
       "    <tr>\n",
       "      <th>4</th>\n",
       "      <td>Kumaraswamy Layout , Bangalore , Karnataka , I...</td>\n",
       "      <td>12.908149</td>\n",
       "      <td>77.555318</td>\n",
       "    </tr>\n",
       "    <tr>\n",
       "      <th>...</th>\n",
       "      <td>...</td>\n",
       "      <td>...</td>\n",
       "      <td>...</td>\n",
       "    </tr>\n",
       "    <tr>\n",
       "      <th>88</th>\n",
       "      <td>West Bangalore , Bangalore , Karnataka , India</td>\n",
       "      <td>13.022235</td>\n",
       "      <td>77.567183</td>\n",
       "    </tr>\n",
       "    <tr>\n",
       "      <th>89</th>\n",
       "      <td>Magadi Road , Bangalore , Karnataka , India</td>\n",
       "      <td>12.975608</td>\n",
       "      <td>77.555356</td>\n",
       "    </tr>\n",
       "    <tr>\n",
       "      <th>90</th>\n",
       "      <td>Yelahanka , Bangalore , Karnataka , India</td>\n",
       "      <td>13.100698</td>\n",
       "      <td>77.596345</td>\n",
       "    </tr>\n",
       "    <tr>\n",
       "      <th>91</th>\n",
       "      <td>Sahakara Nagar , Bangalore , Karnataka , India</td>\n",
       "      <td>13.062147</td>\n",
       "      <td>77.580061</td>\n",
       "    </tr>\n",
       "    <tr>\n",
       "      <th>92</th>\n",
       "      <td>Peenya , Bangalore , Karnataka , India</td>\n",
       "      <td>13.032942</td>\n",
       "      <td>77.527325</td>\n",
       "    </tr>\n",
       "  </tbody>\n",
       "</table>\n",
       "<p>93 rows × 3 columns</p>\n",
       "</div>"
      ],
      "text/plain": [
       "                                                names  latitudes  longitudes\n",
       "0        Banashankari , Bangalore , Karnataka , India  12.915219   77.573621\n",
       "1        Basavanagudi , Bangalore , Karnataka , India  12.941726   77.575502\n",
       "2         Mysore Road , Bangalore , Karnataka , India  12.946662   77.530090\n",
       "3           Jayanagar , Bangalore , Karnataka , India  12.929273   77.582423\n",
       "4   Kumaraswamy Layout , Bangalore , Karnataka , I...  12.908149   77.555318\n",
       "..                                                ...        ...         ...\n",
       "88     West Bangalore , Bangalore , Karnataka , India  13.022235   77.567183\n",
       "89        Magadi Road , Bangalore , Karnataka , India  12.975608   77.555356\n",
       "90          Yelahanka , Bangalore , Karnataka , India  13.100698   77.596345\n",
       "91     Sahakara Nagar , Bangalore , Karnataka , India  13.062147   77.580061\n",
       "92             Peenya , Bangalore , Karnataka , India  13.032942   77.527325\n",
       "\n",
       "[93 rows x 3 columns]"
      ]
     },
     "execution_count": 58,
     "metadata": {},
     "output_type": "execute_result"
    }
   ],
   "source": [
    "locations"
   ]
  },
  {
   "cell_type": "code",
   "execution_count": 59,
   "id": "243cb94e",
   "metadata": {
    "scrolled": true
   },
   "outputs": [
    {
     "data": {
      "text/plain": [
       "names         0\n",
       "latitudes     2\n",
       "longitudes    2\n",
       "dtype: int64"
      ]
     },
     "execution_count": 59,
     "metadata": {},
     "output_type": "execute_result"
    }
   ],
   "source": [
    "# Spatial Analysis\n",
    "\n",
    "locations.isnull().sum()"
   ]
  },
  {
   "cell_type": "code",
   "execution_count": 60,
   "id": "ebe088ff",
   "metadata": {},
   "outputs": [
    {
     "data": {
      "text/plain": [
       "names         0\n",
       "latitudes     0\n",
       "longitudes    0\n",
       "dtype: int64"
      ]
     },
     "execution_count": 60,
     "metadata": {},
     "output_type": "execute_result"
    }
   ],
   "source": [
    "locations = locations.dropna()\n",
    "locations.isnull().sum()"
   ]
  },
  {
   "cell_type": "code",
   "execution_count": 61,
   "id": "eed80a9e",
   "metadata": {},
   "outputs": [
    {
     "data": {
      "text/plain": [
       "45"
      ]
     },
     "execution_count": 61,
     "metadata": {},
     "output_type": "execute_result"
    }
   ],
   "source": [
    "df['cuisines'].isnull().sum()"
   ]
  },
  {
   "cell_type": "code",
   "execution_count": 62,
   "id": "c5e603a7",
   "metadata": {},
   "outputs": [],
   "source": [
    "df = df.dropna(subset= 'cuisines')"
   ]
  },
  {
   "cell_type": "code",
   "execution_count": 86,
   "id": "456f41b5",
   "metadata": {},
   "outputs": [],
   "source": [
    "north_indian_res = df[df['cuisines'].str.contains('North Indian')]"
   ]
  },
  {
   "cell_type": "code",
   "execution_count": 64,
   "id": "d9d86e23",
   "metadata": {},
   "outputs": [
    {
     "data": {
      "text/plain": [
       "0"
      ]
     },
     "execution_count": 64,
     "metadata": {},
     "output_type": "execute_result"
    }
   ],
   "source": [
    "north_indian_res['location'].isnull().sum()"
   ]
  },
  {
   "cell_type": "code",
   "execution_count": 65,
   "id": "17f9c0ee",
   "metadata": {},
   "outputs": [],
   "source": [
    " north_indian_location = north_indian_res['location'].value_counts().reset_index().rename(columns = {'index': 'names', 'location': 'count'})"
   ]
  },
  {
   "cell_type": "code",
   "execution_count": 66,
   "id": "0f602f09",
   "metadata": {},
   "outputs": [
    {
     "data": {
      "text/html": [
       "<div>\n",
       "<style scoped>\n",
       "    .dataframe tbody tr th:only-of-type {\n",
       "        vertical-align: middle;\n",
       "    }\n",
       "\n",
       "    .dataframe tbody tr th {\n",
       "        vertical-align: top;\n",
       "    }\n",
       "\n",
       "    .dataframe thead th {\n",
       "        text-align: right;\n",
       "    }\n",
       "</style>\n",
       "<table border=\"1\" class=\"dataframe\">\n",
       "  <thead>\n",
       "    <tr style=\"text-align: right;\">\n",
       "      <th></th>\n",
       "      <th>names</th>\n",
       "      <th>count</th>\n",
       "    </tr>\n",
       "  </thead>\n",
       "  <tbody>\n",
       "    <tr>\n",
       "      <th>0</th>\n",
       "      <td>BTM , Bangalore , Karnataka , India</td>\n",
       "      <td>2469</td>\n",
       "    </tr>\n",
       "    <tr>\n",
       "      <th>1</th>\n",
       "      <td>HSR , Bangalore , Karnataka , India</td>\n",
       "      <td>1123</td>\n",
       "    </tr>\n",
       "    <tr>\n",
       "      <th>2</th>\n",
       "      <td>Whitefield , Bangalore , Karnataka , India</td>\n",
       "      <td>1059</td>\n",
       "    </tr>\n",
       "    <tr>\n",
       "      <th>3</th>\n",
       "      <td>Marathahalli , Bangalore , Karnataka , India</td>\n",
       "      <td>1038</td>\n",
       "    </tr>\n",
       "    <tr>\n",
       "      <th>4</th>\n",
       "      <td>JP Nagar , Bangalore , Karnataka , India</td>\n",
       "      <td>958</td>\n",
       "    </tr>\n",
       "    <tr>\n",
       "      <th>...</th>\n",
       "      <td>...</td>\n",
       "      <td>...</td>\n",
       "    </tr>\n",
       "    <tr>\n",
       "      <th>85</th>\n",
       "      <td>Hebbal , Bangalore , Karnataka , India</td>\n",
       "      <td>4</td>\n",
       "    </tr>\n",
       "    <tr>\n",
       "      <th>86</th>\n",
       "      <td>Jakkur , Bangalore , Karnataka , India</td>\n",
       "      <td>3</td>\n",
       "    </tr>\n",
       "    <tr>\n",
       "      <th>87</th>\n",
       "      <td>Central Bangalore , Bangalore , Karnataka , India</td>\n",
       "      <td>2</td>\n",
       "    </tr>\n",
       "    <tr>\n",
       "      <th>88</th>\n",
       "      <td>West Bangalore , Bangalore , Karnataka , India</td>\n",
       "      <td>1</td>\n",
       "    </tr>\n",
       "    <tr>\n",
       "      <th>89</th>\n",
       "      <td>Peenya , Bangalore , Karnataka , India</td>\n",
       "      <td>1</td>\n",
       "    </tr>\n",
       "  </tbody>\n",
       "</table>\n",
       "<p>90 rows × 2 columns</p>\n",
       "</div>"
      ],
      "text/plain": [
       "                                                names  count\n",
       "0                 BTM , Bangalore , Karnataka , India   2469\n",
       "1                 HSR , Bangalore , Karnataka , India   1123\n",
       "2          Whitefield , Bangalore , Karnataka , India   1059\n",
       "3        Marathahalli , Bangalore , Karnataka , India   1038\n",
       "4            JP Nagar , Bangalore , Karnataka , India    958\n",
       "..                                                ...    ...\n",
       "85             Hebbal , Bangalore , Karnataka , India      4\n",
       "86             Jakkur , Bangalore , Karnataka , India      3\n",
       "87  Central Bangalore , Bangalore , Karnataka , India      2\n",
       "88     West Bangalore , Bangalore , Karnataka , India      1\n",
       "89             Peenya , Bangalore , Karnataka , India      1\n",
       "\n",
       "[90 rows x 2 columns]"
      ]
     },
     "execution_count": 66,
     "metadata": {},
     "output_type": "execute_result"
    }
   ],
   "source": [
    " north_indian_location"
   ]
  },
  {
   "cell_type": "code",
   "execution_count": 67,
   "id": "3909eb95",
   "metadata": {},
   "outputs": [
    {
     "data": {
      "text/html": [
       "<div>\n",
       "<style scoped>\n",
       "    .dataframe tbody tr th:only-of-type {\n",
       "        vertical-align: middle;\n",
       "    }\n",
       "\n",
       "    .dataframe tbody tr th {\n",
       "        vertical-align: top;\n",
       "    }\n",
       "\n",
       "    .dataframe thead th {\n",
       "        text-align: right;\n",
       "    }\n",
       "</style>\n",
       "<table border=\"1\" class=\"dataframe\">\n",
       "  <thead>\n",
       "    <tr style=\"text-align: right;\">\n",
       "      <th></th>\n",
       "      <th>names</th>\n",
       "      <th>latitudes</th>\n",
       "      <th>longitudes</th>\n",
       "    </tr>\n",
       "  </thead>\n",
       "  <tbody>\n",
       "    <tr>\n",
       "      <th>0</th>\n",
       "      <td>Banashankari , Bangalore , Karnataka , India</td>\n",
       "      <td>12.915219</td>\n",
       "      <td>77.573621</td>\n",
       "    </tr>\n",
       "    <tr>\n",
       "      <th>1</th>\n",
       "      <td>Basavanagudi , Bangalore , Karnataka , India</td>\n",
       "      <td>12.941726</td>\n",
       "      <td>77.575502</td>\n",
       "    </tr>\n",
       "    <tr>\n",
       "      <th>2</th>\n",
       "      <td>Mysore Road , Bangalore , Karnataka , India</td>\n",
       "      <td>12.946662</td>\n",
       "      <td>77.530090</td>\n",
       "    </tr>\n",
       "    <tr>\n",
       "      <th>3</th>\n",
       "      <td>Jayanagar , Bangalore , Karnataka , India</td>\n",
       "      <td>12.929273</td>\n",
       "      <td>77.582423</td>\n",
       "    </tr>\n",
       "    <tr>\n",
       "      <th>4</th>\n",
       "      <td>Kumaraswamy Layout , Bangalore , Karnataka , I...</td>\n",
       "      <td>12.908149</td>\n",
       "      <td>77.555318</td>\n",
       "    </tr>\n",
       "    <tr>\n",
       "      <th>...</th>\n",
       "      <td>...</td>\n",
       "      <td>...</td>\n",
       "      <td>...</td>\n",
       "    </tr>\n",
       "    <tr>\n",
       "      <th>88</th>\n",
       "      <td>West Bangalore , Bangalore , Karnataka , India</td>\n",
       "      <td>13.022235</td>\n",
       "      <td>77.567183</td>\n",
       "    </tr>\n",
       "    <tr>\n",
       "      <th>89</th>\n",
       "      <td>Magadi Road , Bangalore , Karnataka , India</td>\n",
       "      <td>12.975608</td>\n",
       "      <td>77.555356</td>\n",
       "    </tr>\n",
       "    <tr>\n",
       "      <th>90</th>\n",
       "      <td>Yelahanka , Bangalore , Karnataka , India</td>\n",
       "      <td>13.100698</td>\n",
       "      <td>77.596345</td>\n",
       "    </tr>\n",
       "    <tr>\n",
       "      <th>91</th>\n",
       "      <td>Sahakara Nagar , Bangalore , Karnataka , India</td>\n",
       "      <td>13.062147</td>\n",
       "      <td>77.580061</td>\n",
       "    </tr>\n",
       "    <tr>\n",
       "      <th>92</th>\n",
       "      <td>Peenya , Bangalore , Karnataka , India</td>\n",
       "      <td>13.032942</td>\n",
       "      <td>77.527325</td>\n",
       "    </tr>\n",
       "  </tbody>\n",
       "</table>\n",
       "<p>91 rows × 3 columns</p>\n",
       "</div>"
      ],
      "text/plain": [
       "                                                names  latitudes  longitudes\n",
       "0        Banashankari , Bangalore , Karnataka , India  12.915219   77.573621\n",
       "1        Basavanagudi , Bangalore , Karnataka , India  12.941726   77.575502\n",
       "2         Mysore Road , Bangalore , Karnataka , India  12.946662   77.530090\n",
       "3           Jayanagar , Bangalore , Karnataka , India  12.929273   77.582423\n",
       "4   Kumaraswamy Layout , Bangalore , Karnataka , I...  12.908149   77.555318\n",
       "..                                                ...        ...         ...\n",
       "88     West Bangalore , Bangalore , Karnataka , India  13.022235   77.567183\n",
       "89        Magadi Road , Bangalore , Karnataka , India  12.975608   77.555356\n",
       "90          Yelahanka , Bangalore , Karnataka , India  13.100698   77.596345\n",
       "91     Sahakara Nagar , Bangalore , Karnataka , India  13.062147   77.580061\n",
       "92             Peenya , Bangalore , Karnataka , India  13.032942   77.527325\n",
       "\n",
       "[91 rows x 3 columns]"
      ]
     },
     "execution_count": 67,
     "metadata": {},
     "output_type": "execute_result"
    }
   ],
   "source": [
    "locations"
   ]
  },
  {
   "cell_type": "code",
   "execution_count": 68,
   "id": "d8d723ec",
   "metadata": {},
   "outputs": [],
   "source": [
    " heatmap_df = north_indian_location.merge(locations, on='names', how = 'left')"
   ]
  },
  {
   "cell_type": "code",
   "execution_count": 69,
   "id": "ffa2a7e2",
   "metadata": {},
   "outputs": [
    {
     "name": "stdout",
     "output_type": "stream",
     "text": [
      "Requirement already satisfied: folium in c:\\users\\olayi\\anaconda3\\lib\\site-packages (0.15.1)\n",
      "Requirement already satisfied: branca>=0.6.0 in c:\\users\\olayi\\anaconda3\\lib\\site-packages (from folium) (0.7.0)\n",
      "Requirement already satisfied: jinja2>=2.9 in c:\\users\\olayi\\anaconda3\\lib\\site-packages (from folium) (3.1.2)\n",
      "Requirement already satisfied: numpy in c:\\users\\olayi\\anaconda3\\lib\\site-packages (from folium) (1.24.3)\n",
      "Requirement already satisfied: requests in c:\\users\\olayi\\anaconda3\\lib\\site-packages (from folium) (2.31.0)\n",
      "Requirement already satisfied: xyzservices in c:\\users\\olayi\\anaconda3\\lib\\site-packages (from folium) (2022.9.0)\n",
      "Requirement already satisfied: MarkupSafe>=2.0 in c:\\users\\olayi\\anaconda3\\lib\\site-packages (from jinja2>=2.9->folium) (2.1.1)\n",
      "Requirement already satisfied: charset-normalizer<4,>=2 in c:\\users\\olayi\\anaconda3\\lib\\site-packages (from requests->folium) (2.0.4)\n",
      "Requirement already satisfied: idna<4,>=2.5 in c:\\users\\olayi\\anaconda3\\lib\\site-packages (from requests->folium) (3.4)\n",
      "Requirement already satisfied: urllib3<3,>=1.21.1 in c:\\users\\olayi\\anaconda3\\lib\\site-packages (from requests->folium) (1.26.16)\n",
      "Requirement already satisfied: certifi>=2017.4.17 in c:\\users\\olayi\\anaconda3\\lib\\site-packages (from requests->folium) (2023.7.22)\n",
      "Note: you may need to restart the kernel to use updated packages.\n"
     ]
    }
   ],
   "source": [
    "pip install folium"
   ]
  },
  {
   "cell_type": "code",
   "execution_count": 70,
   "id": "eae978e7",
   "metadata": {},
   "outputs": [],
   "source": [
    "import folium\n",
    "base_map = folium.Map()"
   ]
  },
  {
   "cell_type": "code",
   "execution_count": 71,
   "id": "e84c5696",
   "metadata": {},
   "outputs": [
    {
     "data": {
      "text/html": [
       "<div style=\"width:100%;\"><div style=\"position:relative;width:100%;height:0;padding-bottom:60%;\"><span style=\"color:#565656\">Make this Notebook Trusted to load map: File -> Trust Notebook</span><iframe srcdoc=\"&lt;!DOCTYPE html&gt;\n",
       "&lt;html&gt;\n",
       "&lt;head&gt;\n",
       "    \n",
       "    &lt;meta http-equiv=&quot;content-type&quot; content=&quot;text/html; charset=UTF-8&quot; /&gt;\n",
       "    \n",
       "        &lt;script&gt;\n",
       "            L_NO_TOUCH = false;\n",
       "            L_DISABLE_3D = false;\n",
       "        &lt;/script&gt;\n",
       "    \n",
       "    &lt;style&gt;html, body {width: 100%;height: 100%;margin: 0;padding: 0;}&lt;/style&gt;\n",
       "    &lt;style&gt;#map {position:absolute;top:0;bottom:0;right:0;left:0;}&lt;/style&gt;\n",
       "    &lt;script src=&quot;https://cdn.jsdelivr.net/npm/leaflet@1.9.3/dist/leaflet.js&quot;&gt;&lt;/script&gt;\n",
       "    &lt;script src=&quot;https://code.jquery.com/jquery-3.7.1.min.js&quot;&gt;&lt;/script&gt;\n",
       "    &lt;script src=&quot;https://cdn.jsdelivr.net/npm/bootstrap@5.2.2/dist/js/bootstrap.bundle.min.js&quot;&gt;&lt;/script&gt;\n",
       "    &lt;script src=&quot;https://cdnjs.cloudflare.com/ajax/libs/Leaflet.awesome-markers/2.0.2/leaflet.awesome-markers.js&quot;&gt;&lt;/script&gt;\n",
       "    &lt;link rel=&quot;stylesheet&quot; href=&quot;https://cdn.jsdelivr.net/npm/leaflet@1.9.3/dist/leaflet.css&quot;/&gt;\n",
       "    &lt;link rel=&quot;stylesheet&quot; href=&quot;https://cdn.jsdelivr.net/npm/bootstrap@5.2.2/dist/css/bootstrap.min.css&quot;/&gt;\n",
       "    &lt;link rel=&quot;stylesheet&quot; href=&quot;https://netdna.bootstrapcdn.com/bootstrap/3.0.0/css/bootstrap.min.css&quot;/&gt;\n",
       "    &lt;link rel=&quot;stylesheet&quot; href=&quot;https://cdn.jsdelivr.net/npm/@fortawesome/fontawesome-free@6.2.0/css/all.min.css&quot;/&gt;\n",
       "    &lt;link rel=&quot;stylesheet&quot; href=&quot;https://cdnjs.cloudflare.com/ajax/libs/Leaflet.awesome-markers/2.0.2/leaflet.awesome-markers.css&quot;/&gt;\n",
       "    &lt;link rel=&quot;stylesheet&quot; href=&quot;https://cdn.jsdelivr.net/gh/python-visualization/folium/folium/templates/leaflet.awesome.rotate.min.css&quot;/&gt;\n",
       "    \n",
       "            &lt;meta name=&quot;viewport&quot; content=&quot;width=device-width,\n",
       "                initial-scale=1.0, maximum-scale=1.0, user-scalable=no&quot; /&gt;\n",
       "            &lt;style&gt;\n",
       "                #map_34d2e2656f8d26358a8d9db5e6983b1e {\n",
       "                    position: relative;\n",
       "                    width: 100.0%;\n",
       "                    height: 100.0%;\n",
       "                    left: 0.0%;\n",
       "                    top: 0.0%;\n",
       "                }\n",
       "                .leaflet-container { font-size: 1rem; }\n",
       "            &lt;/style&gt;\n",
       "        \n",
       "&lt;/head&gt;\n",
       "&lt;body&gt;\n",
       "    \n",
       "    \n",
       "            &lt;div class=&quot;folium-map&quot; id=&quot;map_34d2e2656f8d26358a8d9db5e6983b1e&quot; &gt;&lt;/div&gt;\n",
       "        \n",
       "&lt;/body&gt;\n",
       "&lt;script&gt;\n",
       "    \n",
       "    \n",
       "            var map_34d2e2656f8d26358a8d9db5e6983b1e = L.map(\n",
       "                &quot;map_34d2e2656f8d26358a8d9db5e6983b1e&quot;,\n",
       "                {\n",
       "                    center: [0.0, 0.0],\n",
       "                    crs: L.CRS.EPSG3857,\n",
       "                    zoom: 1,\n",
       "                    zoomControl: true,\n",
       "                    preferCanvas: false,\n",
       "                }\n",
       "            );\n",
       "\n",
       "            \n",
       "\n",
       "        \n",
       "    \n",
       "            var tile_layer_89aa50d094c1421359a16c986edbdee7 = L.tileLayer(\n",
       "                &quot;https://tile.openstreetmap.org/{z}/{x}/{y}.png&quot;,\n",
       "                {&quot;attribution&quot;: &quot;\\u0026copy; \\u003ca href=\\&quot;https://www.openstreetmap.org/copyright\\&quot;\\u003eOpenStreetMap\\u003c/a\\u003e contributors&quot;, &quot;detectRetina&quot;: false, &quot;maxNativeZoom&quot;: 19, &quot;maxZoom&quot;: 19, &quot;minZoom&quot;: 0, &quot;noWrap&quot;: false, &quot;opacity&quot;: 1, &quot;subdomains&quot;: &quot;abc&quot;, &quot;tms&quot;: false}\n",
       "            );\n",
       "        \n",
       "    \n",
       "            tile_layer_89aa50d094c1421359a16c986edbdee7.addTo(map_34d2e2656f8d26358a8d9db5e6983b1e);\n",
       "        \n",
       "&lt;/script&gt;\n",
       "&lt;/html&gt;\" style=\"position:absolute;width:100%;height:100%;left:0;top:0;border:none !important;\" allowfullscreen webkitallowfullscreen mozallowfullscreen></iframe></div></div>"
      ],
      "text/plain": [
       "<folium.folium.Map at 0x1918097c110>"
      ]
     },
     "execution_count": 71,
     "metadata": {},
     "output_type": "execute_result"
    }
   ],
   "source": [
    "base_map"
   ]
  },
  {
   "cell_type": "code",
   "execution_count": 72,
   "id": "f4ab2231",
   "metadata": {
    "scrolled": true
   },
   "outputs": [
    {
     "data": {
      "text/plain": [
       "Index(['names', 'count', 'latitudes', 'longitudes'], dtype='object')"
      ]
     },
     "execution_count": 72,
     "metadata": {},
     "output_type": "execute_result"
    }
   ],
   "source": [
    "heatmap_df.columns"
   ]
  },
  {
   "cell_type": "code",
   "execution_count": 73,
   "id": "0628d76f",
   "metadata": {},
   "outputs": [
    {
     "data": {
      "text/plain": [
       "names         0\n",
       "count         0\n",
       "latitudes     2\n",
       "longitudes    2\n",
       "dtype: int64"
      ]
     },
     "execution_count": 73,
     "metadata": {},
     "output_type": "execute_result"
    }
   ],
   "source": [
    "heatmap_df.isnull().sum()"
   ]
  },
  {
   "cell_type": "code",
   "execution_count": 74,
   "id": "aaef67a6",
   "metadata": {},
   "outputs": [],
   "source": [
    "heatmap_df = heatmap_df.dropna()"
   ]
  },
  {
   "cell_type": "code",
   "execution_count": 75,
   "id": "711e56c8",
   "metadata": {},
   "outputs": [
    {
     "data": {
      "text/plain": [
       "names         0\n",
       "count         0\n",
       "latitudes     0\n",
       "longitudes    0\n",
       "dtype: int64"
      ]
     },
     "execution_count": 75,
     "metadata": {},
     "output_type": "execute_result"
    }
   ],
   "source": [
    "heatmap_df.isnull().sum()"
   ]
  },
  {
   "cell_type": "code",
   "execution_count": 76,
   "id": "b136f8ab",
   "metadata": {},
   "outputs": [],
   "source": [
    "from folium.plugins import HeatMap\n",
    "\n"
   ]
  },
  {
   "cell_type": "code",
   "execution_count": 77,
   "id": "fe9329ef",
   "metadata": {},
   "outputs": [
    {
     "data": {
      "text/plain": [
       "<folium.plugins.heat_map.HeatMap at 0x1918263acd0>"
      ]
     },
     "execution_count": 77,
     "metadata": {},
     "output_type": "execute_result"
    }
   ],
   "source": [
    "HeatMap(heatmap_df[['latitudes', 'longitudes', 'count']]).add_to(base_map)"
   ]
  },
  {
   "cell_type": "code",
   "execution_count": 78,
   "id": "9ad7e1a7",
   "metadata": {},
   "outputs": [
    {
     "data": {
      "text/html": [
       "<div style=\"width:100%;\"><div style=\"position:relative;width:100%;height:0;padding-bottom:60%;\"><span style=\"color:#565656\">Make this Notebook Trusted to load map: File -> Trust Notebook</span><iframe srcdoc=\"&lt;!DOCTYPE html&gt;\n",
       "&lt;html&gt;\n",
       "&lt;head&gt;\n",
       "    \n",
       "    &lt;meta http-equiv=&quot;content-type&quot; content=&quot;text/html; charset=UTF-8&quot; /&gt;\n",
       "    \n",
       "        &lt;script&gt;\n",
       "            L_NO_TOUCH = false;\n",
       "            L_DISABLE_3D = false;\n",
       "        &lt;/script&gt;\n",
       "    \n",
       "    &lt;style&gt;html, body {width: 100%;height: 100%;margin: 0;padding: 0;}&lt;/style&gt;\n",
       "    &lt;style&gt;#map {position:absolute;top:0;bottom:0;right:0;left:0;}&lt;/style&gt;\n",
       "    &lt;script src=&quot;https://cdn.jsdelivr.net/npm/leaflet@1.9.3/dist/leaflet.js&quot;&gt;&lt;/script&gt;\n",
       "    &lt;script src=&quot;https://code.jquery.com/jquery-3.7.1.min.js&quot;&gt;&lt;/script&gt;\n",
       "    &lt;script src=&quot;https://cdn.jsdelivr.net/npm/bootstrap@5.2.2/dist/js/bootstrap.bundle.min.js&quot;&gt;&lt;/script&gt;\n",
       "    &lt;script src=&quot;https://cdnjs.cloudflare.com/ajax/libs/Leaflet.awesome-markers/2.0.2/leaflet.awesome-markers.js&quot;&gt;&lt;/script&gt;\n",
       "    &lt;link rel=&quot;stylesheet&quot; href=&quot;https://cdn.jsdelivr.net/npm/leaflet@1.9.3/dist/leaflet.css&quot;/&gt;\n",
       "    &lt;link rel=&quot;stylesheet&quot; href=&quot;https://cdn.jsdelivr.net/npm/bootstrap@5.2.2/dist/css/bootstrap.min.css&quot;/&gt;\n",
       "    &lt;link rel=&quot;stylesheet&quot; href=&quot;https://netdna.bootstrapcdn.com/bootstrap/3.0.0/css/bootstrap.min.css&quot;/&gt;\n",
       "    &lt;link rel=&quot;stylesheet&quot; href=&quot;https://cdn.jsdelivr.net/npm/@fortawesome/fontawesome-free@6.2.0/css/all.min.css&quot;/&gt;\n",
       "    &lt;link rel=&quot;stylesheet&quot; href=&quot;https://cdnjs.cloudflare.com/ajax/libs/Leaflet.awesome-markers/2.0.2/leaflet.awesome-markers.css&quot;/&gt;\n",
       "    &lt;link rel=&quot;stylesheet&quot; href=&quot;https://cdn.jsdelivr.net/gh/python-visualization/folium/folium/templates/leaflet.awesome.rotate.min.css&quot;/&gt;\n",
       "    \n",
       "            &lt;meta name=&quot;viewport&quot; content=&quot;width=device-width,\n",
       "                initial-scale=1.0, maximum-scale=1.0, user-scalable=no&quot; /&gt;\n",
       "            &lt;style&gt;\n",
       "                #map_34d2e2656f8d26358a8d9db5e6983b1e {\n",
       "                    position: relative;\n",
       "                    width: 100.0%;\n",
       "                    height: 100.0%;\n",
       "                    left: 0.0%;\n",
       "                    top: 0.0%;\n",
       "                }\n",
       "                .leaflet-container { font-size: 1rem; }\n",
       "            &lt;/style&gt;\n",
       "        \n",
       "    &lt;script src=&quot;https://cdn.jsdelivr.net/gh/python-visualization/folium@main/folium/templates/leaflet_heat.min.js&quot;&gt;&lt;/script&gt;\n",
       "&lt;/head&gt;\n",
       "&lt;body&gt;\n",
       "    \n",
       "    \n",
       "            &lt;div class=&quot;folium-map&quot; id=&quot;map_34d2e2656f8d26358a8d9db5e6983b1e&quot; &gt;&lt;/div&gt;\n",
       "        \n",
       "&lt;/body&gt;\n",
       "&lt;script&gt;\n",
       "    \n",
       "    \n",
       "            var map_34d2e2656f8d26358a8d9db5e6983b1e = L.map(\n",
       "                &quot;map_34d2e2656f8d26358a8d9db5e6983b1e&quot;,\n",
       "                {\n",
       "                    center: [0.0, 0.0],\n",
       "                    crs: L.CRS.EPSG3857,\n",
       "                    zoom: 1,\n",
       "                    zoomControl: true,\n",
       "                    preferCanvas: false,\n",
       "                }\n",
       "            );\n",
       "\n",
       "            \n",
       "\n",
       "        \n",
       "    \n",
       "            var tile_layer_89aa50d094c1421359a16c986edbdee7 = L.tileLayer(\n",
       "                &quot;https://tile.openstreetmap.org/{z}/{x}/{y}.png&quot;,\n",
       "                {&quot;attribution&quot;: &quot;\\u0026copy; \\u003ca href=\\&quot;https://www.openstreetmap.org/copyright\\&quot;\\u003eOpenStreetMap\\u003c/a\\u003e contributors&quot;, &quot;detectRetina&quot;: false, &quot;maxNativeZoom&quot;: 19, &quot;maxZoom&quot;: 19, &quot;minZoom&quot;: 0, &quot;noWrap&quot;: false, &quot;opacity&quot;: 1, &quot;subdomains&quot;: &quot;abc&quot;, &quot;tms&quot;: false}\n",
       "            );\n",
       "        \n",
       "    \n",
       "            tile_layer_89aa50d094c1421359a16c986edbdee7.addTo(map_34d2e2656f8d26358a8d9db5e6983b1e);\n",
       "        \n",
       "    \n",
       "            tile_layer_89aa50d094c1421359a16c986edbdee7.addTo(map_34d2e2656f8d26358a8d9db5e6983b1e);\n",
       "        \n",
       "    \n",
       "            var heat_map_a95ca66642a260e79d78c39053ae4a34 = L.heatLayer(\n",
       "                [[12.911275849999999, 77.60456543431182, 2469.0], [12.9116225, 77.6388622, 1123.0], [12.9696365, 77.7497448, 1059.0], [12.9552572, 77.6984163, 1038.0], [12.9120761, 77.57939318031076, 958.0], [12.9348429, 77.6189768, 755.0], [12.9320229, 77.6007452, 701.0], [12.9732913, 77.6404672, 678.0], [12.848759900000001, 77.64825295827616, 675.0], [12.9292731, 77.5824229, 664.0], [12.93103185, 77.6782471, 659.0], [12.9277245, 77.6327822, 601.0], [12.9243866, 77.6508897, 529.0], [12.9390255, 77.6238477, 408.0], [12.9364846, 77.6134783, 390.0], [12.9778793, 77.6246697, 376.0], [12.9755264, 77.6067902, 359.0], [12.9327778, 77.6294052, 351.0], [12.9699876, 77.6065344, 323.0], [12.9657739, 77.6038697, 312.0], [12.9152186, 77.5736205, 309.0], [12.9668213, 77.7168891, 282.0], [12.986391, 77.6075416, 272.0], [13.0318541, 77.5700947, 267.0], [13.0221416, 77.6403368, 262.0], [12.9882338, 77.554883, 230.0], [13.0141618, 77.6518539, 227.0], [12.9817058, 77.5987234, 224.0], [12.9575547, 77.5979099, 223.0], [13.0027353, 77.5703253, 215.0], [13.0520538, 77.6198644, 214.0], [12.9572222, 77.6743253, 214.0], [12.945245, 77.6269144, 202.0], [12.9986827, 77.615525, 201.0], [12.9624669, 77.6381958, 199.0], [12.9417261, 77.5755021, 189.0], [13.0093455, 77.6377094, 175.0], [12.9755105, 77.6026774, 173.0], [12.9489339, 77.5968273, 132.0], [12.9089453, 77.6239038, 129.0], [12.9720412, 77.5985228, 128.0], [12.988721250000001, 77.58516877601824, 127.0], [12.9744255, 77.6015301, 121.0], [12.9678074, 77.6568367, 117.0], [12.9408685, 77.617338, 103.0], [12.9081487, 77.5553179, 98.0], [13.0431413, 77.6209093, 96.0], [12.9282918, 77.6254034, 84.0], [12.9931876, 77.5753419, 83.0], [12.973936, 77.6509982, 78.0], [12.9822324, 77.6082947, 76.0], [12.983903, 77.5782508, 76.0], [12.9552413, 77.6054375, 73.0], [13.02383, 77.5529215, 72.0], [12.978129800000001, 77.5722060613441, 69.0], [13.0258087, 77.6305067, 68.0], [12.9933829, 77.5389467, 65.0], [12.9832414, 77.595722, 61.0], [12.965717999999999, 77.5762705372058, 58.0], [12.9243692, 77.6242433, 58.0], [13.0227204, 77.595715, 51.0], [13.0358698, 77.6323597, 51.0], [12.9874878, 77.736158, 50.0], [12.9846713, 77.6790908, 47.0], [12.9413238, 77.7471103, 47.0], [12.9660722, 77.6125940647638, 35.0], [12.9578658, 77.6958748, 34.0], [12.9287596, 77.6287122, 31.0], [12.9855509, 77.668072, 30.0], [12.957998, 77.6037312, 22.0], [12.9340114, 77.6222304, 19.0], [13.0464531, 77.5483803, 19.0], [12.99359355, 77.58509974889078, 17.0], [12.8705815, 77.5378051, 16.0], [13.001147, 77.61822712748447, 14.0], [13.0621474, 77.58006135480495, 13.0], [12.9055682, 77.5455438, 13.0], [12.975608, 77.5553564, 12.0], [13.007516, 77.695935, 12.0], [12.9466619, 77.5300896, 11.0], [13.0071855, 77.688793, 7.0], [13.022234699999998, 77.56718324768107, 6.0], [13.00196975, 77.52883895255425, 5.0], [13.0382184, 77.5919, 4.0], [13.0784743, 77.6068938, 3.0], [12.97339325, 77.61123426914668, 2.0], [13.022234699999998, 77.56718324768107, 1.0], [13.0329419, 77.5273253, 1.0]],\n",
       "                {&quot;blur&quot;: 15, &quot;maxZoom&quot;: 18, &quot;minOpacity&quot;: 0.5, &quot;radius&quot;: 25}\n",
       "            );\n",
       "        \n",
       "    \n",
       "            heat_map_a95ca66642a260e79d78c39053ae4a34.addTo(map_34d2e2656f8d26358a8d9db5e6983b1e);\n",
       "        \n",
       "&lt;/script&gt;\n",
       "&lt;/html&gt;\" style=\"position:absolute;width:100%;height:100%;left:0;top:0;border:none !important;\" allowfullscreen webkitallowfullscreen mozallowfullscreen></iframe></div></div>"
      ],
      "text/plain": [
       "<folium.folium.Map at 0x1918097c110>"
      ]
     },
     "execution_count": 78,
     "metadata": {},
     "output_type": "execute_result"
    }
   ],
   "source": [
    "base_map"
   ]
  },
  {
   "cell_type": "code",
   "execution_count": 94,
   "id": "53c369f0",
   "metadata": {},
   "outputs": [],
   "source": [
    "# Automating Data Analysis\n",
    "\n",
    "def get_heatmap(cuisines):\n",
    "    cuisines_df = df[df['cuisines'].str.contains(cuisines)]\n",
    "\n",
    "    \n",
    "    cuisines_res_location = cuisines_df['location'].value_counts().reset_index().rename(columns = {'index': 'names', 'location': 'count'})\n",
    "\n",
    "    heatmap_df = cuisines_res_location.merge(locations, on='names', how = 'left')\n",
    "    heatmap_df = heatmap_df.dropna()\n",
    "    print(heatmap_df.head(4))\n",
    "    \n",
    "    base_map = folium.Map()\n",
    "    \n",
    "    HeatMap(heatmap_df[['latitudes', 'longitudes', 'count']]).add_to(base_map)\n",
    "    \n",
    "    return base_map"
   ]
  },
  {
   "cell_type": "code",
   "execution_count": 81,
   "id": "fa8db826",
   "metadata": {},
   "outputs": [
    {
     "data": {
      "text/plain": [
       "array(['North Indian, Mughlai, Chinese', 'Chinese, North Indian, Thai',\n",
       "       'Cafe, Mexican, Italian', ...,\n",
       "       'North Indian, Street Food, Biryani', 'Chinese, Mughlai',\n",
       "       'North Indian, Chinese, Arabian, Momos'], dtype=object)"
      ]
     },
     "execution_count": 81,
     "metadata": {},
     "output_type": "execute_result"
    }
   ],
   "source": [
    "df['cuisines'].unique()"
   ]
  },
  {
   "cell_type": "code",
   "execution_count": 95,
   "id": "3658e219",
   "metadata": {},
   "outputs": [
    {
     "name": "stdout",
     "output_type": "stream",
     "text": [
      "                                               names  count  latitudes  \\\n",
      "0                BTM , Bangalore , Karnataka , India   1824  12.911276   \n",
      "1                HSR , Bangalore , Karnataka , India    760  12.911623   \n",
      "2  Koramangala 5th Block , Bangalore , Karnataka ...    730  12.934843   \n",
      "3       Marathahalli , Bangalore , Karnataka , India    668  12.955257   \n",
      "\n",
      "   longitudes  \n",
      "0   77.604565  \n",
      "1   77.638862  \n",
      "2   77.618977  \n",
      "3   77.698416  \n"
     ]
    },
    {
     "data": {
      "text/html": [
       "<div style=\"width:100%;\"><div style=\"position:relative;width:100%;height:0;padding-bottom:60%;\"><span style=\"color:#565656\">Make this Notebook Trusted to load map: File -> Trust Notebook</span><iframe srcdoc=\"&lt;!DOCTYPE html&gt;\n",
       "&lt;html&gt;\n",
       "&lt;head&gt;\n",
       "    \n",
       "    &lt;meta http-equiv=&quot;content-type&quot; content=&quot;text/html; charset=UTF-8&quot; /&gt;\n",
       "    \n",
       "        &lt;script&gt;\n",
       "            L_NO_TOUCH = false;\n",
       "            L_DISABLE_3D = false;\n",
       "        &lt;/script&gt;\n",
       "    \n",
       "    &lt;style&gt;html, body {width: 100%;height: 100%;margin: 0;padding: 0;}&lt;/style&gt;\n",
       "    &lt;style&gt;#map {position:absolute;top:0;bottom:0;right:0;left:0;}&lt;/style&gt;\n",
       "    &lt;script src=&quot;https://cdn.jsdelivr.net/npm/leaflet@1.9.3/dist/leaflet.js&quot;&gt;&lt;/script&gt;\n",
       "    &lt;script src=&quot;https://code.jquery.com/jquery-3.7.1.min.js&quot;&gt;&lt;/script&gt;\n",
       "    &lt;script src=&quot;https://cdn.jsdelivr.net/npm/bootstrap@5.2.2/dist/js/bootstrap.bundle.min.js&quot;&gt;&lt;/script&gt;\n",
       "    &lt;script src=&quot;https://cdnjs.cloudflare.com/ajax/libs/Leaflet.awesome-markers/2.0.2/leaflet.awesome-markers.js&quot;&gt;&lt;/script&gt;\n",
       "    &lt;link rel=&quot;stylesheet&quot; href=&quot;https://cdn.jsdelivr.net/npm/leaflet@1.9.3/dist/leaflet.css&quot;/&gt;\n",
       "    &lt;link rel=&quot;stylesheet&quot; href=&quot;https://cdn.jsdelivr.net/npm/bootstrap@5.2.2/dist/css/bootstrap.min.css&quot;/&gt;\n",
       "    &lt;link rel=&quot;stylesheet&quot; href=&quot;https://netdna.bootstrapcdn.com/bootstrap/3.0.0/css/bootstrap.min.css&quot;/&gt;\n",
       "    &lt;link rel=&quot;stylesheet&quot; href=&quot;https://cdn.jsdelivr.net/npm/@fortawesome/fontawesome-free@6.2.0/css/all.min.css&quot;/&gt;\n",
       "    &lt;link rel=&quot;stylesheet&quot; href=&quot;https://cdnjs.cloudflare.com/ajax/libs/Leaflet.awesome-markers/2.0.2/leaflet.awesome-markers.css&quot;/&gt;\n",
       "    &lt;link rel=&quot;stylesheet&quot; href=&quot;https://cdn.jsdelivr.net/gh/python-visualization/folium/folium/templates/leaflet.awesome.rotate.min.css&quot;/&gt;\n",
       "    \n",
       "            &lt;meta name=&quot;viewport&quot; content=&quot;width=device-width,\n",
       "                initial-scale=1.0, maximum-scale=1.0, user-scalable=no&quot; /&gt;\n",
       "            &lt;style&gt;\n",
       "                #map_a2c91758f2597788b80a8609d5ffa745 {\n",
       "                    position: relative;\n",
       "                    width: 100.0%;\n",
       "                    height: 100.0%;\n",
       "                    left: 0.0%;\n",
       "                    top: 0.0%;\n",
       "                }\n",
       "                .leaflet-container { font-size: 1rem; }\n",
       "            &lt;/style&gt;\n",
       "        \n",
       "    &lt;script src=&quot;https://cdn.jsdelivr.net/gh/python-visualization/folium@main/folium/templates/leaflet_heat.min.js&quot;&gt;&lt;/script&gt;\n",
       "&lt;/head&gt;\n",
       "&lt;body&gt;\n",
       "    \n",
       "    \n",
       "            &lt;div class=&quot;folium-map&quot; id=&quot;map_a2c91758f2597788b80a8609d5ffa745&quot; &gt;&lt;/div&gt;\n",
       "        \n",
       "&lt;/body&gt;\n",
       "&lt;script&gt;\n",
       "    \n",
       "    \n",
       "            var map_a2c91758f2597788b80a8609d5ffa745 = L.map(\n",
       "                &quot;map_a2c91758f2597788b80a8609d5ffa745&quot;,\n",
       "                {\n",
       "                    center: [0.0, 0.0],\n",
       "                    crs: L.CRS.EPSG3857,\n",
       "                    zoom: 1,\n",
       "                    zoomControl: true,\n",
       "                    preferCanvas: false,\n",
       "                }\n",
       "            );\n",
       "\n",
       "            \n",
       "\n",
       "        \n",
       "    \n",
       "            var tile_layer_d6065dcff5be582d44e1b53d4a6728eb = L.tileLayer(\n",
       "                &quot;https://tile.openstreetmap.org/{z}/{x}/{y}.png&quot;,\n",
       "                {&quot;attribution&quot;: &quot;\\u0026copy; \\u003ca href=\\&quot;https://www.openstreetmap.org/copyright\\&quot;\\u003eOpenStreetMap\\u003c/a\\u003e contributors&quot;, &quot;detectRetina&quot;: false, &quot;maxNativeZoom&quot;: 19, &quot;maxZoom&quot;: 19, &quot;minZoom&quot;: 0, &quot;noWrap&quot;: false, &quot;opacity&quot;: 1, &quot;subdomains&quot;: &quot;abc&quot;, &quot;tms&quot;: false}\n",
       "            );\n",
       "        \n",
       "    \n",
       "            tile_layer_d6065dcff5be582d44e1b53d4a6728eb.addTo(map_a2c91758f2597788b80a8609d5ffa745);\n",
       "        \n",
       "    \n",
       "            var heat_map_9274cb513631e8759426da4fdfeec783 = L.heatLayer(\n",
       "                [[12.911275849999999, 77.60456543431182, 1824.0], [12.9116225, 77.6388622, 760.0], [12.9348429, 77.6189768, 730.0], [12.9552572, 77.6984163, 668.0], [12.9120761, 77.57939318031076, 633.0], [12.9696365, 77.7497448, 629.0], [12.9292731, 77.5824229, 570.0], [12.9320229, 77.6007452, 510.0], [12.848759900000001, 77.64825295827616, 509.0], [12.9732913, 77.6404672, 466.0], [12.93103185, 77.6782471, 375.0], [12.9277245, 77.6327822, 356.0], [12.9699876, 77.6065344, 349.0], [12.9390255, 77.6238477, 322.0], [12.9243866, 77.6508897, 311.0], [12.9364846, 77.6134783, 284.0], [12.9327778, 77.6294052, 278.0], [12.9152186, 77.5736205, 259.0], [12.9668213, 77.7168891, 254.0], [13.0141618, 77.6518539, 254.0], [12.9778793, 77.6246697, 245.0], [12.9755264, 77.6067902, 242.0], [12.9657739, 77.6038697, 233.0], [13.0093455, 77.6377094, 211.0], [12.9882338, 77.554883, 204.0], [12.9986827, 77.615525, 200.0], [13.0318541, 77.5700947, 196.0], [13.0520538, 77.6198644, 194.0], [12.945245, 77.6269144, 186.0], [12.9575547, 77.5979099, 174.0], [12.9817058, 77.5987234, 170.0], [13.0221416, 77.6403368, 170.0], [12.986391, 77.6075416, 162.0], [13.0027353, 77.5703253, 157.0], [12.9417261, 77.5755021, 156.0], [12.9572222, 77.6743253, 145.0], [12.9624669, 77.6381958, 120.0], [12.9755105, 77.6026774, 105.0], [12.9089453, 77.6239038, 101.0], [12.9408685, 77.617338, 100.0], [12.9081487, 77.5553179, 99.0], [12.988721250000001, 77.58516877601824, 94.0], [12.9489339, 77.5968273, 92.0], [12.9832414, 77.595722, 79.0], [13.0431413, 77.6209093, 76.0], [12.9931876, 77.5753419, 67.0], [12.9678074, 77.6568367, 66.0], [13.0358698, 77.6323597, 65.0], [13.02383, 77.5529215, 65.0], [12.9282918, 77.6254034, 62.0], [12.9744255, 77.6015301, 61.0], [12.973936, 77.6509982, 60.0], [12.9822324, 77.6082947, 59.0], [12.9720412, 77.5985228, 57.0], [13.0258087, 77.6305067, 56.0], [12.978129800000001, 77.5722060613441, 55.0], [12.9552413, 77.6054375, 54.0], [12.9933829, 77.5389467, 53.0], [12.965717999999999, 77.5762705372058, 50.0], [13.0227204, 77.595715, 44.0], [12.9846713, 77.6790908, 37.0], [12.9243692, 77.6242433, 36.0], [12.9660722, 77.6125940647638, 32.0], [12.983903, 77.5782508, 31.0], [12.9413238, 77.7471103, 26.0], [12.9874878, 77.736158, 21.0], [12.9578658, 77.6958748, 21.0], [12.9287596, 77.6287122, 20.0], [13.007516, 77.695935, 17.0], [13.0071855, 77.688793, 17.0], [12.8705815, 77.5378051, 16.0], [12.9855509, 77.668072, 14.0], [13.0464531, 77.5483803, 14.0], [12.9055682, 77.5455438, 13.0], [12.9340114, 77.6222304, 12.0], [13.0621474, 77.58006135480495, 9.0], [12.9466619, 77.5300896, 9.0], [12.975608, 77.5553564, 9.0], [13.001147, 77.61822712748447, 8.0], [12.99359355, 77.58509974889078, 8.0], [13.00196975, 77.52883895255425, 8.0], [13.0382184, 77.5919, 6.0], [13.022234699999998, 77.56718324768107, 6.0], [13.0784743, 77.6068938, 3.0], [12.97339325, 77.61123426914668, 2.0], [13.022234699999998, 77.56718324768107, 1.0], [12.9274413, 77.5155224, 1.0], [13.0329419, 77.5273253, 1.0]],\n",
       "                {&quot;blur&quot;: 15, &quot;maxZoom&quot;: 18, &quot;minOpacity&quot;: 0.5, &quot;radius&quot;: 25}\n",
       "            );\n",
       "        \n",
       "    \n",
       "            heat_map_9274cb513631e8759426da4fdfeec783.addTo(map_a2c91758f2597788b80a8609d5ffa745);\n",
       "        \n",
       "&lt;/script&gt;\n",
       "&lt;/html&gt;\" style=\"position:absolute;width:100%;height:100%;left:0;top:0;border:none !important;\" allowfullscreen webkitallowfullscreen mozallowfullscreen></iframe></div></div>"
      ],
      "text/plain": [
       "<folium.folium.Map at 0x191826458d0>"
      ]
     },
     "execution_count": 95,
     "metadata": {},
     "output_type": "execute_result"
    }
   ],
   "source": [
    "# heatmap of Chinese using the automation created for get map\n",
    "get_heatmap('Chinese')"
   ]
  },
  {
   "cell_type": "code",
   "execution_count": null,
   "id": "878c3268",
   "metadata": {},
   "outputs": [],
   "source": []
  }
 ],
 "metadata": {
  "kernelspec": {
   "display_name": "Python 3 (ipykernel)",
   "language": "python",
   "name": "python3"
  },
  "language_info": {
   "codemirror_mode": {
    "name": "ipython",
    "version": 3
   },
   "file_extension": ".py",
   "mimetype": "text/x-python",
   "name": "python",
   "nbconvert_exporter": "python",
   "pygments_lexer": "ipython3",
   "version": "3.11.4"
  }
 },
 "nbformat": 4,
 "nbformat_minor": 5
}
